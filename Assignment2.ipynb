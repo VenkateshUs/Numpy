{
 "cells": [
  {
   "cell_type": "code",
   "execution_count": 1,
   "id": "ccabf481-797f-4bf0-bf45-0043151c0bf0",
   "metadata": {},
   "outputs": [
    {
     "name": "stdout",
     "output_type": "stream",
     "text": [
      "hsetaknev\n"
     ]
    }
   ],
   "source": [
    "#1. Write a program to reverse a string.\n",
    "s= 'venkatesh'\n",
    "s1 =s[::-1]\n",
    "print(s1)\n"
   ]
  },
  {
   "cell_type": "code",
   "execution_count": 11,
   "id": "ee77e735-ca23-4867-ba4e-1e6beb2a7b29",
   "metadata": {},
   "outputs": [
    {
     "name": "stdout",
     "output_type": "stream",
     "text": [
      "True\n",
      "False\n",
      "True\n"
     ]
    }
   ],
   "source": [
    "#2.Check if a string is a palindrome.\n",
    "def is_palindrome(n):\n",
    "    n = n.lower()\n",
    "    n = ''.join(e  for e in n if n.isalnum())\n",
    "    return n == n[::-1]\n",
    "\n",
    "print(is_palindrome(\"Atta\"))\n",
    "print(is_palindrome(\"Love\"))\n",
    "print(is_palindrome(\"AMA\"))"
   ]
  },
  {
   "cell_type": "code",
   "execution_count": 13,
   "id": "c75c31f6-710a-40ae-b7f5-4a07093a9acb",
   "metadata": {},
   "outputs": [
    {
     "name": "stdin",
     "output_type": "stream",
     "text": [
      "Enter the name: venkatesh\n"
     ]
    },
    {
     "name": "stdout",
     "output_type": "stream",
     "text": [
      "VENKATESH\n"
     ]
    }
   ],
   "source": [
    "#3. Convert a string to uppercase.\n",
    "s= str(input(\"Enter the name:\"))\n",
    "s1= s.upper()\n",
    "print(s1)"
   ]
  },
  {
   "cell_type": "code",
   "execution_count": 14,
   "id": "34ecd053-b220-4bc7-bf30-a019395983d0",
   "metadata": {},
   "outputs": [
    {
     "name": "stdin",
     "output_type": "stream",
     "text": [
      "Enter the name: Good luck\n"
     ]
    },
    {
     "name": "stdout",
     "output_type": "stream",
     "text": [
      "good luck\n"
     ]
    }
   ],
   "source": [
    "#4. Convert a string to lowercase.\n",
    "s= str(input(\"Enter the name:\"))\n",
    "s1= s.lower()\n",
    "print(s1)"
   ]
  },
  {
   "cell_type": "code",
   "execution_count": 21,
   "id": "209c1dac-5775-4df6-92b9-4c27b835fb40",
   "metadata": {},
   "outputs": [
    {
     "name": "stdout",
     "output_type": "stream",
     "text": [
      "2\n",
      "4\n"
     ]
    }
   ],
   "source": [
    "#5. Count the number of vowels in a string.\n",
    "def count_vowels(string):\n",
    "    vowel_count = 0\n",
    "    string = string.lower()\n",
    "    vowels = set(\"aeiou\")\n",
    "    \n",
    "    for char in string:\n",
    "        if char in vowels:\n",
    "            \n",
    "            vowel_count +=1\n",
    "    return vowel_count\n",
    "\n",
    "print(count_vowels(\"Usha\"))\n",
    "print(count_vowels(\"Chandra BOse\"))"
   ]
  },
  {
   "cell_type": "code",
   "execution_count": 33,
   "id": "2f33e0a4-a1bb-4226-a3fb-dfeef8213fe7",
   "metadata": {},
   "outputs": [
    {
     "name": "stdout",
     "output_type": "stream",
     "text": [
      "13\n"
     ]
    }
   ],
   "source": [
    "#6. Count the number of consonants in a string.\n",
    "def count_consonants(string1):\n",
    "    consonants_count =0\n",
    "    string1 = string1.lower()\n",
    "    consonants =set( \"bcdfghjklmnopqrstvwxyz\")\n",
    "    for char in string1:\n",
    "        if char in consonants:\n",
    "            consonants_count+=1\n",
    "    return consonants_count\n",
    "\n",
    "print(count_consonants(\"subhash chandra bose\"))\n",
    " "
   ]
  },
  {
   "cell_type": "code",
   "execution_count": 102,
   "id": "7c25ea47-16c7-451c-91c9-c69ae671d8dc",
   "metadata": {},
   "outputs": [
    {
     "name": "stdout",
     "output_type": "stream",
     "text": [
      "penaltygoal\n"
     ]
    }
   ],
   "source": [
    "#7. Remove all whitespaces from a string\n",
    "v= '    penalty goal  '\n",
    "v1= v.replace(' ','')\n",
    "print(v1)"
   ]
  },
  {
   "cell_type": "code",
   "execution_count": 96,
   "id": "0a5fdd95-6d81-4bb7-8ded-38859e32fa8b",
   "metadata": {},
   "outputs": [
    {
     "name": "stdout",
     "output_type": "stream",
     "text": [
      "27\n"
     ]
    }
   ],
   "source": [
    "#8. Find the length of a string without using the `len()` function.\n",
    "n = 'venkatesh Is Python learner'\n",
    "def find_Len(n):\n",
    "    count = 0\n",
    "    for i in n:\n",
    "        count += 1\n",
    "    return count\n",
    "print(find_Len(n))"
   ]
  },
  {
   "cell_type": "code",
   "execution_count": 101,
   "id": "16f0ac46-d2a5-45fb-a02f-8486a0ffbc8e",
   "metadata": {},
   "outputs": [
    {
     "name": "stdout",
     "output_type": "stream",
     "text": [
      "True\n"
     ]
    }
   ],
   "source": [
    "#9. Check if a string contains a specific word.\n",
    "n ='venkatesh Is Python learner'\n",
    "if 'venkatesh' in n:\n",
    "    print(True)\n",
    "else:\n",
    "    print(False)"
   ]
  },
  {
   "cell_type": "code",
   "execution_count": 11,
   "id": "1d7c11f7-8109-4da7-9dd4-889a163a5cbb",
   "metadata": {},
   "outputs": [
    {
     "name": "stdout",
     "output_type": "stream",
     "text": [
      "Rahul has a Hockey kit\n"
     ]
    }
   ],
   "source": [
    "#10. Replace a word in a string with another word.\n",
    "r= 'Rahul has a cricket kit'\n",
    "r1 = r.replace('cricket','Hockey')\n",
    "print(r1)"
   ]
  },
  {
   "cell_type": "code",
   "execution_count": 27,
   "id": "9923b60a-3b21-467a-9863-7886a2d6bead",
   "metadata": {},
   "outputs": [
    {
     "data": {
      "text/plain": [
       "2"
      ]
     },
     "execution_count": 27,
     "metadata": {},
     "output_type": "execute_result"
    }
   ],
   "source": [
    "#11 Count the occurrences of a word in a string.\n",
    "s = \"This is a sample sentence. This sentence contains the word 'sample' multiple times.\"\n",
    "s1 = s.count(\"sentence\")\n",
    "s1"
   ]
  },
  {
   "cell_type": "code",
   "execution_count": 28,
   "id": "7deb0071-1d72-4ffc-86da-d4f44813a90d",
   "metadata": {},
   "outputs": [
    {
     "name": "stdout",
     "output_type": "stream",
     "text": [
      "11\n"
     ]
    }
   ],
   "source": [
    "#12. Find the first occurrence of a word in a string.\n",
    "s = \"This is an example sentence. This sentence contains the word example.\"\n",
    "\n",
    "s1 = s.find('example')\n",
    "print(s1)"
   ]
  },
  {
   "cell_type": "code",
   "execution_count": 31,
   "id": "5a11c20d-f1e2-47f8-a5a4-65622bc255fd",
   "metadata": {},
   "outputs": [
    {
     "name": "stdout",
     "output_type": "stream",
     "text": [
      "61\n"
     ]
    }
   ],
   "source": [
    "#13. Find the last occurrence of a word in a string.\n",
    "s  = \"This is an example sentence. This sentence contains the word example.\"\n",
    "\n",
    "s1 = s.rfind('example')\n",
    "print(s1)"
   ]
  },
  {
   "cell_type": "code",
   "execution_count": 32,
   "id": "0e9d57e1-5f74-455b-b10c-3e31f5fa9f25",
   "metadata": {},
   "outputs": [
    {
     "name": "stdout",
     "output_type": "stream",
     "text": [
      "['This', 'is', 'my', 'book', 'and', 'I', 'love', 'to', 'read', 'in', 'my', 'own', 'bullish', 'writing']\n"
     ]
    }
   ],
   "source": [
    "#14 . Split a string into a list of words.\n",
    "s = 'This is my book and I love to read in my own bullish writing'\n",
    "s1 = s.split(' ') # if you keep , in split, you will get full sentence\n",
    "print(s1)"
   ]
  },
  {
   "cell_type": "code",
   "execution_count": 62,
   "id": "04c9ebc6-a760-400e-ae6b-238ef55a2250",
   "metadata": {},
   "outputs": [
    {
     "name": "stdout",
     "output_type": "stream",
     "text": [
      "This is my book and I love to read in my own bullish writing\n"
     ]
    }
   ],
   "source": [
    "#15. Join a list of words into a string.\n",
    "l1 = ['This', 'is', 'my', 'book', 'and', 'I', 'love', 'to', 'read', 'in', 'my', 'own', 'bullish', 'writing']\n",
    "print (' '.join(l1))\n"
   ]
  },
  {
   "cell_type": "code",
   "execution_count": 86,
   "id": "269fcfb3-8c7f-4496-8080-e27002eccd7b",
   "metadata": {},
   "outputs": [
    {
     "name": "stdout",
     "output_type": "stream",
     "text": [
      "This_is_my_book_and_I_love_to_read_in_my_own_bullish_writing\n"
     ]
    }
   ],
   "source": [
    "#16. Convert a string where words are separated by spaces to one where words are separated by underscores.\n",
    "s = 'This is my book and I love to read in my own bullish writing'\n",
    "\n",
    "print(s.replace(' ','_'))"
   ]
  },
  {
   "cell_type": "code",
   "execution_count": 34,
   "id": "101bd287-7c7b-4e42-a8f3-ec269f575292",
   "metadata": {},
   "outputs": [
    {
     "name": "stdout",
     "output_type": "stream",
     "text": [
      "True\n"
     ]
    }
   ],
   "source": [
    "#17. Check if a string starts with a specific word or phrase.\n",
    "s = 'This is my book and I love to read in my own bullish writing'\n",
    "print(s.startswith('This'))"
   ]
  },
  {
   "cell_type": "code",
   "execution_count": 36,
   "id": "be5bd574-e1f3-448a-913c-b96a20d3b54e",
   "metadata": {},
   "outputs": [
    {
     "name": "stdout",
     "output_type": "stream",
     "text": [
      "True\n"
     ]
    }
   ],
   "source": [
    "#18. Check if a string ends with a specific word or phrase\n",
    "s ='This is my book and I love to read in my own bullish writing'\n",
    "print(s.endswith('writing'))"
   ]
  },
  {
   "cell_type": "code",
   "execution_count": 90,
   "id": "7451fd43-ec31-4a67-82f6-930de4e3f9a1",
   "metadata": {},
   "outputs": [
    {
     "name": "stdout",
     "output_type": "stream",
     "text": [
      "Hello World\n"
     ]
    }
   ],
   "source": [
    "#19. Convert a string to title case (e.g., \"hello world\" to \"Hello World\").\n",
    "p = 'hello world'\n",
    "print(p.title())"
   ]
  },
  {
   "cell_type": "code",
   "execution_count": 102,
   "id": "eaf7b4fd-090b-45ba-9345-6f209f7d24a3",
   "metadata": {},
   "outputs": [
    {
     "name": "stdout",
     "output_type": "stream",
     "text": [
      "writings\n"
     ]
    }
   ],
   "source": [
    "#20. Find the longest word in a string.\n",
    "s = 'This is my book and I love to read in my own bullish writings'\n",
    "s1 = s.split()\n",
    "print(max(s1, key = len))"
   ]
  },
  {
   "cell_type": "code",
   "execution_count": 109,
   "id": "4f421e65-8910-4420-9dd4-59c763595c49",
   "metadata": {},
   "outputs": [
    {
     "name": "stdout",
     "output_type": "stream",
     "text": [
      "p\n"
     ]
    }
   ],
   "source": [
    "#21. Find the shortest word in a string.\n",
    "s = 'This is my book,love to read in my own bullish writings of p'\n",
    "s1 = s.split()\n",
    "print(min(s1, key = len))"
   ]
  },
  {
   "cell_type": "code",
   "execution_count": 15,
   "id": "6b8d5745-91f9-49e6-915f-8bf07c2c6cd0",
   "metadata": {},
   "outputs": [
    {
     "name": "stdout",
     "output_type": "stream",
     "text": [
      "life my of Love\n"
     ]
    }
   ],
   "source": [
    "#22. Reverse the order of words in a string.\n",
    "p = 'Love of my life'\n",
    "p1= p.split()[::-1]\n",
    "l =[]\n",
    "for i in p1:\n",
    "    l.append(i)\n",
    "print(\" \".join(l))"
   ]
  },
  {
   "cell_type": "code",
   "execution_count": 41,
   "id": "5824308f-f5c4-4c83-951d-f46443d95bea",
   "metadata": {},
   "outputs": [
    {
     "name": "stdout",
     "output_type": "stream",
     "text": [
      "s is not aplhanumerc  False\n"
     ]
    }
   ],
   "source": [
    "#23. Check if a string is alphanumeric\n",
    "s = 'ThisismybookandIloveto readinmy231ownbullishwritings'\n",
    "\n",
    "if s.isalnum():\n",
    "        print('s is aplhanumerc ',True)\n",
    "else:\n",
    "    print('s is not aplhanumerc ', False)"
   ]
  },
  {
   "cell_type": "code",
   "execution_count": 1,
   "id": "2a4fca89-b2e2-48b5-a9f0-9e960f72ceee",
   "metadata": {},
   "outputs": [
    {
     "name": "stdout",
     "output_type": "stream",
     "text": [
      "123321"
     ]
    }
   ],
   "source": [
    "#24. Extract all digits from a string\n",
    "v= 'venkatesh123ravi321'\n",
    "\n",
    "for i in v:\n",
    "    if(i.isdigit()):\n",
    "        print(i,end=\"\")"
   ]
  },
  {
   "cell_type": "code",
   "execution_count": 43,
   "id": "60629065-b8db-4f30-8114-7fe215869e12",
   "metadata": {},
   "outputs": [
    {
     "name": "stdout",
     "output_type": "stream",
     "text": [
      "venkateshRavi"
     ]
    }
   ],
   "source": [
    "#25. Extract all alphabets from a string\n",
    "v= 'venkatesh123Ravi'\n",
    "\n",
    "for i in v:\n",
    "    if(i.isalpha()):\n",
    "        print(i,end=\"\")\n"
   ]
  },
  {
   "cell_type": "code",
   "execution_count": 5,
   "id": "846eea70-e6d1-4431-a000-60ccf4c61220",
   "metadata": {},
   "outputs": [
    {
     "data": {
      "text/plain": [
       "5"
      ]
     },
     "execution_count": 5,
     "metadata": {},
     "output_type": "execute_result"
    }
   ],
   "source": [
    "#26. Count the number of uppercase letters in a string.\n",
    "v1 = 'VenkAtesG LoveS'\n",
    "def count_uppercase(v1):\n",
    "    uppercase_count = sum(1 for char in v1 if char.isupper())\n",
    "    return uppercase_count\n",
    "\n",
    "count_uppercase(v1)\n"
   ]
  },
  {
   "cell_type": "code",
   "execution_count": 6,
   "id": "b5dcc9de-66f9-4b8c-89b3-e70a1b5d3c12",
   "metadata": {},
   "outputs": [
    {
     "data": {
      "text/plain": [
       "9"
      ]
     },
     "execution_count": 6,
     "metadata": {},
     "output_type": "execute_result"
    }
   ],
   "source": [
    "#27. Count the number of lowercase letters in a string.\n",
    "v1 = 'VenkAtesG LoveS'\n",
    "def count_lowercase(v1):\n",
    "    lowercase_count =sum(1 for char in v1 if char.islower())\n",
    "    return lowercase_count\n",
    "\n",
    "count_lowercase(v1)"
   ]
  },
  {
   "cell_type": "code",
   "execution_count": 120,
   "id": "006f3ee3-16ee-4cab-9c6b-412a104e1471",
   "metadata": {},
   "outputs": [
    {
     "data": {
      "text/plain": [
       "'vENKATESH'"
      ]
     },
     "execution_count": 120,
     "metadata": {},
     "output_type": "execute_result"
    }
   ],
   "source": [
    "#28. Swap the case of each character in a string.\n",
    "str1= 'Venkatesh'\n",
    "str1.swapcase()"
   ]
  },
  {
   "cell_type": "code",
   "execution_count": 12,
   "id": "dcb02f12-aa6f-4882-8ef3-68ddc4eca146",
   "metadata": {},
   "outputs": [
    {
     "data": {
      "text/plain": [
       "'This is my book and I love to read in my own writings'"
      ]
     },
     "execution_count": 12,
     "metadata": {},
     "output_type": "execute_result"
    }
   ],
   "source": [
    "#29. Remove a specific word from a string.\n",
    "s ='This is my book and I love to read in my own bullish writings'\n",
    "def remove_word(s,word_removal):\n",
    "    words =s.split() #split the s string in to a list of words\n",
    "    filtered_words =[word for word in words if word!=word_removal] #create a new list excluding the word to remove\n",
    "    modified_string= ' '.join(filtered_words) #join the filtered words back in to a string\n",
    "    return modified_string\n",
    "\n",
    "s ='This is my book and I love to read in my own bullish writings'\n",
    "word_removal = 'bullish'\n",
    "remove_word(s,word_removal)\n"
   ]
  },
  {
   "cell_type": "code",
   "execution_count": 20,
   "id": "1812e85e-51e7-4f03-bd8b-c30409e5d5e8",
   "metadata": {},
   "outputs": [
    {
     "name": "stdout",
     "output_type": "stream",
     "text": [
      "True\n",
      "False\n"
     ]
    }
   ],
   "source": [
    "#30. Check if a string is a valid email address.\n",
    "\n",
    "import re #Import the regular expression module\n",
    "def is_valid_email(email):\n",
    "    pattern = r'^[\\w\\.-]+@[\\w\\.-]+\\.\\w+$'  # Regular expression pattern for a basic email validation\n",
    "    if re.match(pattern,email):\n",
    "        return True\n",
    "    else:\n",
    "        return False\n",
    "\n",
    "\n",
    "    \n",
    "#Driver code\n",
    "email1 = \"venkateshwarasingh486@gmail.in\"\n",
    "email2 =\"venkateshwarasingh-yahoo.com\"\n",
    "result1 =is_valid_email(email1)\n",
    "result2 =is_valid_email(email2)\n",
    "print(result1)\n",
    "print(result2)\n",
    "\n",
    "    \n"
   ]
  },
  {
   "cell_type": "code",
   "execution_count": 22,
   "id": "3484d933-af5c-496d-a916-f0c8679d09d5",
   "metadata": {},
   "outputs": [
    {
     "data": {
      "text/plain": [
       "'venkateshwarasingh'"
      ]
     },
     "execution_count": 22,
     "metadata": {},
     "output_type": "execute_result"
    }
   ],
   "source": [
    "#31. Extract the username from an email address string.\n",
    "def extract_username(email):\n",
    "    username =email.split('@')[0] #spilt the email address at \"@\" and take the first part\n",
    "    return username\n",
    "\n",
    "#driver code:\n",
    "email ='venkateshwarasingh@gmail.com'\n",
    "extract_username(email)\n",
    "\n"
   ]
  },
  {
   "cell_type": "code",
   "execution_count": 24,
   "id": "a859b4ac-39bd-42f4-9e73-f82cb6993c81",
   "metadata": {},
   "outputs": [
    {
     "data": {
      "text/plain": [
       "'gmail.com'"
      ]
     },
     "execution_count": 24,
     "metadata": {},
     "output_type": "execute_result"
    }
   ],
   "source": [
    "#32. Extract the domain name from an email address string.\n",
    "def extract_domain(email):\n",
    "    domain = email.split('@')[1]  # Split the email address at \"@\" and take the last part\n",
    "    return domain\n",
    "\n",
    "#driver code:\n",
    "email ='venkateshwarasingh@gmail.com'\n",
    "extract_domain(email)"
   ]
  },
  {
   "cell_type": "code",
   "execution_count": 6,
   "id": "d5ea2817-01f7-4270-89e6-6fe2714f6fde",
   "metadata": {},
   "outputs": [
    {
     "data": {
      "text/plain": [
       "'This is my book and I love to read in my own bullish writings'"
      ]
     },
     "execution_count": 6,
     "metadata": {},
     "output_type": "execute_result"
    }
   ],
   "source": [
    "#33. Replace multiple spaces in a string with a single space.\n",
    "s = 'This is my book     and I love to read     in my own bullish writings'\n",
    "s1 = s.replace('    ','')\n",
    "s1\n"
   ]
  },
  {
   "cell_type": "code",
   "execution_count": 25,
   "id": "33c2aea1-312e-4ddf-b591-baf0a0f796d6",
   "metadata": {},
   "outputs": [
    {
     "name": "stdout",
     "output_type": "stream",
     "text": [
      "True\n",
      "False\n"
     ]
    }
   ],
   "source": [
    "#34. Check if a string is a valid URL.\n",
    "from urllib.parse import urlparse\n",
    "\n",
    "def is_valid_url(url):\n",
    "    try:\n",
    "        result =urlparse(url)\n",
    "        return all([result.scheme, result.netloc]) #check if both scheme and netloc are present\n",
    "    except ValueError:\n",
    "        return False\n",
    "\n",
    "# Example URLs\n",
    "url1 = \"https://www.amazon.com\"\n",
    "url2 = \"invalid-url\"\n",
    "result1 = is_valid_url(url1)\n",
    "result2 = is_valid_url(url2)\n",
    "print(result1)  # Should print True\n",
    "print(result2)  # Should print False        \n",
    "\n"
   ]
  },
  {
   "cell_type": "code",
   "execution_count": 26,
   "id": "2fd9195e-991d-42f9-9d8e-dd0c728061e7",
   "metadata": {},
   "outputs": [
    {
     "name": "stdout",
     "output_type": "stream",
     "text": [
      "Protocol 1: https\n",
      "Protocol 2: tcp\n",
      "Protocol 3: ftp\n"
     ]
    }
   ],
   "source": [
    "#35. Extract the protocol (http or https) from a URL string.\n",
    "def extract_protocol(url):\n",
    "    #find the index fo the first occurrence of \"://\"\n",
    "    protocol_end = url.find(\"://\")\n",
    "    \n",
    "    if protocol_end != -1:\n",
    "        #Extract the protocol form the url\n",
    "        protocol = url[:protocol_end]\n",
    "        return protocol\n",
    "    else:\n",
    "        return None\n",
    "\n",
    "    \n",
    "# Example URL strings\n",
    "url1 = \"https://www.example.com\"\n",
    "url2 = \"tcp://google.com\"\n",
    "url3 = \"ftp://ftp.example.com\"\n",
    "\n",
    "# Extract protocols\n",
    "protocol1 = extract_protocol(url1)\n",
    "protocol2 = extract_protocol(url2)\n",
    "protocol3 = extract_protocol(url3)\n",
    "\n",
    "# Print extracted protocols\n",
    "print(\"Protocol 1:\", protocol1)\n",
    "print(\"Protocol 2:\", protocol2)\n",
    "print(\"Protocol 3:\", protocol3)                               "
   ]
  },
  {
   "cell_type": "code",
   "execution_count": 31,
   "id": "66ef49e8-c92b-4ace-ac28-880c8cce64ca",
   "metadata": {},
   "outputs": [
    {
     "name": "stdout",
     "output_type": "stream",
     "text": [
      "Character: 'I', Frequency: 1\n",
      "Character: ' ', Frequency: 8\n",
      "Character: 'l', Frequency: 3\n",
      "Character: 'o', Frequency: 3\n",
      "Character: 'v', Frequency: 1\n",
      "Character: 'e', Frequency: 2\n",
      "Character: 't', Frequency: 2\n",
      "Character: 'r', Frequency: 2\n",
      "Character: 'a', Frequency: 1\n",
      "Character: 'd', Frequency: 1\n",
      "Character: 'i', Frequency: 4\n",
      "Character: 'n', Frequency: 3\n",
      "Character: 'm', Frequency: 1\n",
      "Character: 'y', Frequency: 1\n",
      "Character: 'w', Frequency: 2\n",
      "Character: 'b', Frequency: 1\n",
      "Character: 'u', Frequency: 1\n",
      "Character: 's', Frequency: 2\n",
      "Character: 'h', Frequency: 1\n",
      "Character: 'g', Frequency: 1\n"
     ]
    }
   ],
   "source": [
    "#36. Find the frequency of each character in a string.\n",
    "\n",
    "def character_frequency(string):\n",
    "    frequency ={} # Create an empty dictionary to store character frequencies\n",
    "    for char in string:\n",
    "        if char in frequency:\n",
    "            frequency[char] += 1 # Increment the frequency count if the character is already in the dictionary\n",
    "        else:\n",
    "            frequency[char] =1  # Initialize the frequency count to 1 if the character is not in the dictionary\n",
    "    return frequency\n",
    "\n",
    "#Driver code:\n",
    "string = 'I love to read in my own bullish writings'\n",
    "# Calculate character frequencies\n",
    "char_freq = character_frequency(string)\n",
    "# Print character frequencies\n",
    "for char, freq in char_freq.items():\n",
    "    print(f\"Character: '{char}', Frequency: {freq}\")\n",
    "\n"
   ]
  },
  {
   "cell_type": "code",
   "execution_count": 36,
   "id": "d21940ca-5467-488f-b4ad-fb687adc7995",
   "metadata": {},
   "outputs": [
    {
     "name": "stdout",
     "output_type": "stream",
     "text": [
      "Original string: My name is rahul & Rahul's best friend's are ram, Ravi!\n",
      "Cleaned string: My name is rahul  Rahuls best friends are ram Ravi\n"
     ]
    }
   ],
   "source": [
    "#37. Remove all punctuation from a string.\n",
    "\n",
    "import string\n",
    "\n",
    "def remove_punctuation(string1):\n",
    "    #Create a translation table to remove punctuation\n",
    "    translator = str.maketrans(\"\",\"\",string.punctuation)\n",
    "    \n",
    "    #Use the translation table to remove pinctuation from the string1\n",
    "    clean_string = string1.translate(translator)\n",
    "    \n",
    "    return clean_string\n",
    "\n",
    "# Example string with punctuation\n",
    "string1 = \"My name is rahul & Rahul's best friend's are ram, Ravi!\"\n",
    "\n",
    "# Remove punctuation\n",
    "cleaned_str = remove_punctuation(string1)\n",
    "\n",
    "# Print the cleaned string\n",
    "print(\"Original string:\",string1)\n",
    "print(\"Cleaned string:\", cleaned_str)\n"
   ]
  },
  {
   "cell_type": "code",
   "execution_count": 7,
   "id": "5b8e2a1a-8d40-4d6a-a27e-68c1e3c51a1a",
   "metadata": {},
   "outputs": [
    {
     "name": "stdout",
     "output_type": "stream",
     "text": [
      "False\n"
     ]
    }
   ],
   "source": [
    "#38. Check if a string contains only digits.\n",
    "s = 'Thisis678'\n",
    "\n",
    "print(s.isdigit())"
   ]
  },
  {
   "cell_type": "code",
   "execution_count": 9,
   "id": "33dfbc65-afbc-4196-ba95-5284b916c94d",
   "metadata": {},
   "outputs": [
    {
     "name": "stdout",
     "output_type": "stream",
     "text": [
      "True\n"
     ]
    }
   ],
   "source": [
    "#39. Check if a string contains only alphabets.\n",
    "s = 'Thisis'\n",
    "print(s.isalpha())"
   ]
  },
  {
   "cell_type": "code",
   "execution_count": 27,
   "id": "2e41c756-72fa-4bf5-9565-78e770e7f4e8",
   "metadata": {},
   "outputs": [
    {
     "data": {
      "text/plain": [
       "['l', 'i', 'n', 'k', 'e', 'd', 'l', 'i', 's', 't']"
      ]
     },
     "execution_count": 27,
     "metadata": {},
     "output_type": "execute_result"
    }
   ],
   "source": [
    "#40. Convert a string to a list of characters.\n",
    "s = 'linkedlist'\n",
    "t = list(s)\n",
    "t"
   ]
  },
  {
   "cell_type": "code",
   "execution_count": 6,
   "id": "88a799d4-cce8-4d8d-82e4-220172c45280",
   "metadata": {},
   "outputs": [
    {
     "name": "stdout",
     "output_type": "stream",
     "text": [
      "True\n",
      "True\n",
      "True\n",
      "False\n"
     ]
    }
   ],
   "source": [
    "#41. Check if two strings are anagrams. anagram= arranging letters of word to another word with same letters\n",
    "def are_anagrams(str1,str2):\n",
    "    # Remove spaces and convert the strings to lower case for accurate comparison\n",
    "    str1= str1.replace(' ','').lower()\n",
    "    str2 = str2.replace(\" \",\"\").lower()\n",
    "    \n",
    "    #sort the character in both the strings and compare\n",
    "    return sorted(str1) == sorted(str2)\n",
    "\n",
    "print(are_anagrams('tips','pits'))\n",
    "print(are_anagrams('silent','listen'))\n",
    "print(are_anagrams('tata','atta'))\n",
    "print(are_anagrams('love','hate',))"
   ]
  },
  {
   "cell_type": "code",
   "execution_count": 47,
   "id": "887ce422-f3c6-42f7-b534-3c8514bd0371",
   "metadata": {},
   "outputs": [
    {
     "name": "stdout",
     "output_type": "stream",
     "text": [
      "pboryhri 2024!\n"
     ]
    }
   ],
   "source": [
    "#42. Encode a string using a Caesar cipher.\n",
    "#A Caesar cipher is a simple encryption technique where each letter in the plaintext is shifted a certain number of places down or up the alphabet. Here's a Python code snippet to encode a string using a Caesar cipher:\n",
    "def caesar_cipher(text, shift):\n",
    "  \"\"\"\n",
    "  Encodes a string using a Caesar cipher.\n",
    "\n",
    "  Args:\n",
    "    text: The string to encode.\n",
    "    shift: The number of positions to shift each letter.\n",
    "\n",
    "  Returns:\n",
    "    The encoded string.\n",
    "  \"\"\"\n",
    "\n",
    "  # Initialize an empty string to store the encoded text.\n",
    "  encoded_text = \"\"\n",
    "\n",
    "  # Iterate through each character in the input text.\n",
    "  for char in text:\n",
    "    # Check if the character is alphabetic.\n",
    "    if char.isalpha():\n",
    "      # Calculate the encoded character's Unicode code point value by shifting it by the specified amount.\n",
    "      # Ensure the value wraps around within the lowercase alphabet range (a-z).\n",
    "      encoded_char = chr((ord(char) + shift - ord('a')) % 26 + ord('a'))\n",
    "    else:\n",
    "      # Keep non-alphabetic characters unchanged.\n",
    "      encoded_char = char\n",
    "\n",
    "    # Add the encoded character to the encoded text.\n",
    "    encoded_text += encoded_char\n",
    "\n",
    "  # Return the resulting encoded text.\n",
    "  return encoded_text\n",
    "\n",
    "\n",
    "print(caesar_cipher('myloveof 2024!',3))\n",
    "    "
   ]
  },
  {
   "cell_type": "code",
   "execution_count": 48,
   "id": "06f5b760-c1cf-4dc4-aacb-80bdb24befd5",
   "metadata": {},
   "outputs": [
    {
     "name": "stdout",
     "output_type": "stream",
     "text": [
      "myloveof 2024!\n"
     ]
    }
   ],
   "source": [
    "#43. Decode a Caesar cipher encoded string.\n",
    "def caesar_cipher_decoder(text,shift):\n",
    "    \"\"\"\n",
    "    Decodes a string using a Caesar cipher.\n",
    "\n",
    "    Args:\n",
    "        text: The string to decode.\n",
    "        shift: The number of positions to shift each letter.\n",
    "\n",
    "    Returns:\n",
    "        The decoded string.\n",
    "    \"\"\"\n",
    "    # Initialize an empty string to store the decoded text\n",
    "    decoded_text =\"\"\n",
    "    \n",
    "    #Loop through each character in the input text\n",
    "    for char in text:\n",
    "        #check if the characte is an aplhabetic character\n",
    "        if char.isalpha():\n",
    "            #calculate the decoded charged using the shift value\n",
    "            decoded_char = chr((ord(char)-shift-ord('a'))% 26 + ord('a'))\n",
    "        else:\n",
    "            #If the char is not alphabetic,keep it unchanged\n",
    "            decoded_char =char\n",
    "        # Add the decoded character to the decoded text\n",
    "        decoded_text += decoded_char\n",
    "     # Return the fully decoded text\n",
    "    return decoded_text\n",
    "\n",
    "print(caesar_cipher_decoder('pboryhri 2024!',3))\n",
    "        \n",
    "    "
   ]
  },
  {
   "cell_type": "code",
   "execution_count": 73,
   "id": "faad7904-39ea-471d-b1fb-735fb15f8442",
   "metadata": {},
   "outputs": [
    {
     "name": "stdout",
     "output_type": "stream",
     "text": [
      "there\n"
     ]
    }
   ],
   "source": [
    "#44. Find the most frequent word in a string.\n",
    "import re\n",
    "from collections import Counter\n",
    "\n",
    "def most_frequent_word(string1):\n",
    "    #Remove punctuations and convert to lower case\n",
    "    clean_string = re.sub(r'[^\\w\\s]','',string1).lower()\n",
    "    \n",
    "    #spilt the string into words\n",
    "    words =clean_string.split()\n",
    "    \n",
    "    #Use Counter to count word frequencies\n",
    "    word_counter =Counter(words)\n",
    "    \n",
    "    #Find the most common word\n",
    "    most_common_word =word_counter.most_common(1) [0] [0]\n",
    "    \n",
    "    return most_common_word\n",
    "\n",
    "print(most_frequent_word(\"Hi there,! emma, are you here? how's your day? there is your bad\"))\n",
    "\n"
   ]
  },
  {
   "cell_type": "code",
   "execution_count": 77,
   "id": "576a0df0-a709-441e-9c25-56dbf99c6908",
   "metadata": {},
   "outputs": [
    {
     "name": "stdout",
     "output_type": "stream",
     "text": [
      "{'venkatesh', 'my', 'hi', 'is', 'this', 'book', 'name'}\n"
     ]
    }
   ],
   "source": [
    "#45. Find all unique words in a string.\n",
    "import re\n",
    "\n",
    "def unique_words(string1):\n",
    "    #remove punctuation and convert to lower case\n",
    "    clean_string = re.sub(r'[^\\w\\s]','',string1).lower()\n",
    "    \n",
    "    #spilt the string into words and convert to set for uniquenss\n",
    "    words =set(clean_string.split())\n",
    "    return words\n",
    "\n",
    "print(unique_words(\"Hi! My name is venkatesh, this is my book \"))"
   ]
  },
  {
   "cell_type": "code",
   "execution_count": 82,
   "id": "c1f862b2-014b-45cb-afaa-c97844aa3ae6",
   "metadata": {},
   "outputs": [
    {
     "name": "stdout",
     "output_type": "stream",
     "text": [
      "2\n",
      "2\n",
      "3\n"
     ]
    }
   ],
   "source": [
    "#46. Count the number of syllables in a string.\n",
    "import re\n",
    "\n",
    "def count_syllables(word):\n",
    "    # count vowel grous using regular expression\n",
    "    vowel_groups = re.findall(r'[aeiou]+',word,re.IGNORECASE)\n",
    "    \n",
    "    return len(vowel_groups)\n",
    "\n",
    "print(count_syllables('Ravi'))\n",
    "print(count_syllables('Raghu'))\n",
    "print(count_syllables('venkatesh'))"
   ]
  },
  {
   "cell_type": "code",
   "execution_count": 94,
   "id": "680b2eb2-9bfc-429b-8879-f3e42c34f383",
   "metadata": {},
   "outputs": [
    {
     "name": "stdout",
     "output_type": "stream",
     "text": [
      "True\n",
      "True\n"
     ]
    }
   ],
   "source": [
    "#47. Check if a string contains any special characters.\n",
    "import re\n",
    "def contains_special_characters(string1):\n",
    "    #Define a regular expression pattern to match specila characters\n",
    "    pattern =re.compile(r'[!@#$%^&*()_+{}\\[\\]:;<>,.?~\\\\/]')\n",
    "    #use the search() method to find a match\n",
    "    match = pattern.search(string1)\n",
    "    \n",
    "    #Return True if  a match is found, False otherwise                    \n",
    "    return bool(match)\n",
    "                        \n",
    "                        \n",
    "print(contains_special_characters(\"I love my country!`$$\"))  \n",
    "print(contains_special_characters(\"venkatehswarasingh@gmail.com\"))"
   ]
  },
  {
   "cell_type": "code",
   "execution_count": 101,
   "id": "8d1a20e5-8ff8-4201-a46f-3c469ec16d81",
   "metadata": {},
   "outputs": [
    {
     "name": "stdout",
     "output_type": "stream",
     "text": [
      "('This is freedom to do what love', 'you')\n"
     ]
    }
   ],
   "source": [
    "#48. Remove the nth word from a string\n",
    "def remove_nth_word(string1,n):\n",
    "    #spilt the string1  in to words\n",
    "    words = string1.split()\n",
    "    \n",
    "    #check if n is with in a valid range\n",
    "    if n>=1 and n<= len(words):\n",
    "        #remove the nth word by exluding it from the words list\n",
    "        removed_word = words.pop(n-1)\n",
    "        \n",
    "        #join the remaining word to form the modified stirng\n",
    "        modified_string = ' '.join(words)\n",
    "        return modified_string, removed_word\n",
    "    else:\n",
    "        return NOne, none\n",
    "        \n",
    "print(remove_nth_word(\"This is freedom to do what you love\",7))"
   ]
  },
  {
   "cell_type": "code",
   "execution_count": 81,
   "id": "3b3b3e8c-9e7c-4842-bf0a-726bb8a430d8",
   "metadata": {},
   "outputs": [
    {
     "name": "stdout",
     "output_type": "stream",
     "text": [
      "pw skills is ed- tech company\n"
     ]
    }
   ],
   "source": [
    "#49. Insert a word at the nth position in a string.\n",
    "def insert_word(string, word, n):\n",
    "    return string[:n]+ word +string[n:]\n",
    "\n",
    "\n",
    "\n",
    "\n",
    "\n",
    "string = \"pw skills is ed tech company\"\n",
    "n =15\n",
    "word =\"-\"\n",
    "print(insert_word(string, word, n))"
   ]
  },
  {
   "cell_type": "code",
   "execution_count": null,
   "id": "c394bc5c-1679-4bb3-8129-195750d9b672",
   "metadata": {},
   "outputs": [],
   "source": [
    "def insert_word_at_position(original_string, word_to_insert, position):\n",
    "    return original_string[:position] + word_to_insert + original_string[position:]\n",
    "\n",
    "# Example usage:\n",
    "original_string = \"Learning is fun.\"\n",
    "word_to_insert = \"ed tech\"\n",
    "position = 5\n",
    "\n",
    "modified_string = insert_word_at_position(original_string, word_to_insert, position)\n",
    "print(modified_string)\n"
   ]
  },
  {
   "cell_type": "code",
   "execution_count": 11,
   "id": "603f477d-b272-4fe4-868c-a008ac4d8630",
   "metadata": {},
   "outputs": [
    {
     "name": "stdout",
     "output_type": "stream",
     "text": [
      "['Name', ' Age', ' Country']\n",
      "['John', '25', ' USA']\n",
      "['Alice', '30', 'Canada']\n",
      "['BOb', '22', 'UK']\n"
     ]
    }
   ],
   "source": [
    "#50 Convert a CSV string to a list of lists\n",
    "def csv_string_to_list(csv_string):\n",
    "    lines =csv_string.split(\"\\n\")\n",
    "    result =[]\n",
    "    \n",
    "    for line in lines:\n",
    "        fields = line.split(\",\")\n",
    "        result.append(fields)\n",
    "    return result\n",
    "\n",
    "csv_data = \"Name, Age, Country\\nJohn,25, USA\\nAlice,30,Canada\\nBOb,22,UK\"\n",
    "list_of_lists = csv_string_to_list(csv_data)\n",
    "\n",
    "for row in list_of_lists:\n",
    "    print(row)\n",
    "    "
   ]
  },
  {
   "cell_type": "code",
   "execution_count": 2,
   "id": "a79641df-8a05-4dc2-bc25-31143c1f6b36",
   "metadata": {},
   "outputs": [
    {
     "data": {
      "text/plain": [
       "[1, 2, 3, 4, 5, 6, 7, 8, 9, 10]"
      ]
     },
     "execution_count": 2,
     "metadata": {},
     "output_type": "execute_result"
    }
   ],
   "source": [
    "#1. Create a list with integers from 1 to 10.\n",
    "lst = [i for i in range(1,11)]\n",
    "lst"
   ]
  },
  {
   "cell_type": "code",
   "execution_count": 10,
   "id": "55b1e917-3e25-4b7c-b574-0d8479f583a4",
   "metadata": {},
   "outputs": [
    {
     "name": "stdout",
     "output_type": "stream",
     "text": [
      "9\n"
     ]
    }
   ],
   "source": [
    "#2. Find the length of a list without using the `len()` function.\n",
    "list1=[1, 2, 3, 4, 5, 6, 7.8, 9, 10]\n",
    "\n",
    "def find_Len(list1):\n",
    "    count =0\n",
    "    for i in list1:\n",
    "        count+= 1\n",
    "    return(count) \n",
    "\n",
    "print(find_Len([1, 2, 3, 4, 5, 6, 7.8, 9, 10]))\n",
    "    "
   ]
  },
  {
   "cell_type": "code",
   "execution_count": 6,
   "id": "f0576826-4261-4204-b3cb-96e5aa839b3f",
   "metadata": {},
   "outputs": [
    {
     "name": "stdout",
     "output_type": "stream",
     "text": [
      "[1, 2, 3, 4, 5, 6, 7.8, 9, 10, 'for']\n"
     ]
    }
   ],
   "source": [
    "#3. Append an element to the end of a list\n",
    "l = [1, 2, 3, 4, 5, 6, 7.8, 9, 10]\n",
    "l.append('for')\n",
    "print(l)"
   ]
  },
  {
   "cell_type": "code",
   "execution_count": 65,
   "id": "c611dd06-1a4a-458f-a77f-ffa04f430af8",
   "metadata": {},
   "outputs": [
    {
     "name": "stdout",
     "output_type": "stream",
     "text": [
      "[1, 2, 3, 'luv', 4, 5, 6, 7.8, 9, 10]\n"
     ]
    }
   ],
   "source": [
    "#4. Insert an element at a specific index in a list.\n",
    "l = [1, 2, 3, 4, 5, 6, 7.8, 9, 10]\n",
    "l.insert(3,'luv')\n",
    "print(l)"
   ]
  },
  {
   "cell_type": "code",
   "execution_count": 66,
   "id": "3d4735f6-7f9e-4cd5-bedf-ed0dcb938a33",
   "metadata": {},
   "outputs": [
    {
     "name": "stdout",
     "output_type": "stream",
     "text": [
      "[1, 2, 3, 4, 5, 6, 7.8, 9, 10]\n"
     ]
    }
   ],
   "source": [
    "#5. Remove an element from a list by its value.\n",
    "l = [1, 2, 3, 'luv', 4, 5, 6, 7.8, 9, 10]\n",
    "l.remove('luv')\n",
    "print(l)"
   ]
  },
  {
   "cell_type": "code",
   "execution_count": 72,
   "id": "d091b1f4-481e-4833-9a2c-709641e70cb4",
   "metadata": {},
   "outputs": [
    {
     "name": "stdout",
     "output_type": "stream",
     "text": [
      "[1, 2, 3, 5, 6, 7.8, 9, 10]\n"
     ]
    }
   ],
   "source": [
    "#6. Remove an element from a list by its index.\n",
    "l= [1, 2, 3, 4, 5, 6, 7.8, 9, 10]\n",
    "l.pop(3)\n",
    "print(l)"
   ]
  },
  {
   "cell_type": "code",
   "execution_count": 11,
   "id": "cc6744be-766e-49c4-9e4c-d6110cf1fed0",
   "metadata": {},
   "outputs": [
    {
     "name": "stdout",
     "output_type": "stream",
     "text": [
      "element exist\n"
     ]
    }
   ],
   "source": [
    "#7. Check if an element exists in a list.\n",
    "l = [1, 2, 3, 5, 6, 7.8, 9, 10]\n",
    "if 7.8 in l:\n",
    "    print('element exist')\n",
    "else:\n",
    "    print(\"element does not exist\")\n"
   ]
  },
  {
   "cell_type": "code",
   "execution_count": 13,
   "id": "84fe821b-0dc7-4979-9754-e48903f64039",
   "metadata": {},
   "outputs": [
    {
     "name": "stdout",
     "output_type": "stream",
     "text": [
      "1\n"
     ]
    }
   ],
   "source": [
    "#8. Find the index of the first occurrence of an element in a list.\n",
    "l1 = [1,2,3,4,2]\n",
    "print(l1.index(2))\n"
   ]
  },
  {
   "cell_type": "code",
   "execution_count": 89,
   "id": "382168d7-56a6-49ae-9a5c-12cb41db8ce2",
   "metadata": {},
   "outputs": [
    {
     "name": "stdout",
     "output_type": "stream",
     "text": [
      "2\n"
     ]
    }
   ],
   "source": [
    "#9. Count the occurrences of an element in a list.\n",
    "l1 = [1,2,3,4,2,3]\n",
    "print(l1.count(3))"
   ]
  },
  {
   "cell_type": "code",
   "execution_count": 14,
   "id": "551222cc-99c2-4d01-92af-84986a4bb918",
   "metadata": {},
   "outputs": [
    {
     "name": "stdout",
     "output_type": "stream",
     "text": [
      "[3, 2, 4, 3, 2, 1]\n"
     ]
    }
   ],
   "source": [
    "#10. Reverse the order of elements in a list.\n",
    "l1 = [1, 2, 3, 4, 2, 3]\n",
    "l1.reverse()\n",
    "print(l1)\n"
   ]
  },
  {
   "cell_type": "code",
   "execution_count": 15,
   "id": "e5e79a47-f2a6-48c0-980e-2a4041e13469",
   "metadata": {},
   "outputs": [
    {
     "data": {
      "text/plain": [
       "[1, 2, 2, 3, 3, 4]"
      ]
     },
     "execution_count": 15,
     "metadata": {},
     "output_type": "execute_result"
    }
   ],
   "source": [
    "#11. Sort a list in ascending order.\n",
    "l1 = [1, 2, 3, 4, 2, 3]\n",
    "l1.sort()\n",
    "l1"
   ]
  },
  {
   "cell_type": "code",
   "execution_count": 11,
   "id": "f5e5cb8b-a759-4ad0-9c94-1df174a9e76d",
   "metadata": {},
   "outputs": [
    {
     "data": {
      "text/plain": [
       "[4, 3, 3, 2, 2, 1]"
      ]
     },
     "execution_count": 11,
     "metadata": {},
     "output_type": "execute_result"
    }
   ],
   "source": [
    "#12. Sort a list in descending order.\n",
    "l1= [1, 2, 3, 4, 2, 3]\n",
    "l1.sort(reverse = True)\n",
    "l1\n"
   ]
  },
  {
   "cell_type": "code",
   "execution_count": 14,
   "id": "93d26366-e378-44f6-8d79-838e3dec86c2",
   "metadata": {},
   "outputs": [
    {
     "name": "stdout",
     "output_type": "stream",
     "text": [
      "[2, 4, 6, 8, 10, 12, 14, 16, 18, 20]\n"
     ]
    }
   ],
   "source": [
    "#13. Create a list of even numbers from 1 to 20.\n",
    "p = [1,2,3,4,5,6,7,8,9,10,11,12,13,14,15,16,17,18,19,20]\n",
    "l1 =[]\n",
    "for i in p:\n",
    "    if i%2 ==0:\n",
    "        l1.append(i)\n",
    "print(l1)        \n",
    "       "
   ]
  },
  {
   "cell_type": "code",
   "execution_count": 15,
   "id": "5e5c9354-0009-4bc6-a0af-066458465219",
   "metadata": {},
   "outputs": [
    {
     "name": "stdout",
     "output_type": "stream",
     "text": [
      "[1, 3, 5, 7, 9, 11, 13, 15, 17, 19]\n"
     ]
    }
   ],
   "source": [
    "#14. Create a list of odd numbers from 1 to 20.\n",
    "l2 =[]\n",
    "for i in p:\n",
    "    if i%2 !=0:\n",
    "        l2.append(i)\n",
    "print(l2)        "
   ]
  },
  {
   "cell_type": "code",
   "execution_count": 20,
   "id": "5e6e930a-e224-4f43-a384-48fc69381bd0",
   "metadata": {},
   "outputs": [
    {
     "data": {
      "text/plain": [
       "43"
      ]
     },
     "execution_count": 20,
     "metadata": {},
     "output_type": "execute_result"
    }
   ],
   "source": [
    "#15. Find the sum of all elements in a list.\n",
    "l3= [1, 2, 3, 5, 6, 7, 9, 10]\n",
    "lst =sum([i for i in l3])\n",
    "lst"
   ]
  },
  {
   "cell_type": "code",
   "execution_count": 21,
   "id": "56cf01cd-10da-4d0f-8ebc-59cc8a19e7bf",
   "metadata": {},
   "outputs": [
    {
     "data": {
      "text/plain": [
       "10"
      ]
     },
     "execution_count": 21,
     "metadata": {},
     "output_type": "execute_result"
    }
   ],
   "source": [
    "#16. Find the maximum value in a list.\n",
    "l3= [1, 2, 3, 5, 6, 7, 9, 10]\n",
    "l4=max(l3)\n",
    "l4"
   ]
  },
  {
   "cell_type": "code",
   "execution_count": 22,
   "id": "4abce86b-8f0b-4017-8405-dedfe523b072",
   "metadata": {},
   "outputs": [
    {
     "data": {
      "text/plain": [
       "1"
      ]
     },
     "execution_count": 22,
     "metadata": {},
     "output_type": "execute_result"
    }
   ],
   "source": [
    "#17. Find the minimum value in a list.\n",
    "l3= [1, 2, 3, 5, 6, 7, 9, 10]\n",
    "l5=min(l3)\n",
    "l5"
   ]
  },
  {
   "cell_type": "code",
   "execution_count": 23,
   "id": "7ee0a940-8d2a-44c8-872c-c0a38963d2a7",
   "metadata": {},
   "outputs": [
    {
     "data": {
      "text/plain": [
       "[1, 4, 9, 16, 25, 36, 49, 64, 81, 100]"
      ]
     },
     "execution_count": 23,
     "metadata": {},
     "output_type": "execute_result"
    }
   ],
   "source": [
    "#18. Create a list of squares of numbers from 1 to 10.\n",
    "\n",
    "lst =[i**2 for i in range(1,11)]\n",
    "lst"
   ]
  },
  {
   "cell_type": "code",
   "execution_count": 33,
   "id": "2804c6e3-7ef2-447e-b053-a08750c7df0e",
   "metadata": {},
   "outputs": [
    {
     "name": "stdout",
     "output_type": "stream",
     "text": [
      "[0, 1, 9, 5, 5, 0, 3, 6, 10]\n"
     ]
    }
   ],
   "source": [
    "#19. Create a list of random numbers.\n",
    "import random\n",
    "list1 = []\n",
    "for i in range(9):\n",
    "    list1.append(random.randint(0, 11))\n",
    "print(list1)"
   ]
  },
  {
   "cell_type": "code",
   "execution_count": 37,
   "id": "7569e718-4df0-452c-9ad6-3562b995af5e",
   "metadata": {},
   "outputs": [
    {
     "name": "stdout",
     "output_type": "stream",
     "text": [
      "{1, 2, 3, 5, 6, 7, 9, 10}\n"
     ]
    }
   ],
   "source": [
    "#20 Remove duplicates from a list.\n",
    "l5 = [1, 2, 3, 5, 6,6,9, 7, 9, 10]\n",
    "l6 = set(l5)\n",
    "print(l6)\n"
   ]
  },
  {
   "cell_type": "code",
   "execution_count": 26,
   "id": "7a80566f-0aea-4059-9800-d877c2ba1814",
   "metadata": {},
   "outputs": [
    {
     "name": "stdout",
     "output_type": "stream",
     "text": [
      "[2, 8, 10]\n"
     ]
    }
   ],
   "source": [
    "#21.Find the common elements between two lists.\n",
    "l5 = [1, 2, 3, 5, 6,8, 6, 9, 7, 9, 10]\n",
    "l2 =[2,4,8,10]\n",
    "l7=[]\n",
    "\n",
    "for i in l5:\n",
    "    if i in l2:\n",
    "        l7.append(i)\n",
    "print(l7)"
   ]
  },
  {
   "cell_type": "code",
   "execution_count": 44,
   "id": "dca95453-a36f-4348-8522-884b87f0f5e8",
   "metadata": {},
   "outputs": [
    {
     "name": "stdout",
     "output_type": "stream",
     "text": [
      "[1, 3, 5, 7, 10]\n"
     ]
    }
   ],
   "source": [
    "#22. Find the difference between two lists.\n",
    "l5 = [1, 2, 3, 5, 6,8, 6, 9, 7, 9, 10]\n",
    "l2 =[2,4,8,6,9]\n",
    "l8=[]\n",
    "\n",
    "for i in l5:\n",
    "    if i not in  l2:\n",
    "            l8.append(i)\n",
    "print(l8)            "
   ]
  },
  {
   "cell_type": "code",
   "execution_count": 45,
   "id": "3c0b756a-5b44-411f-aad2-4bebaccb4eb8",
   "metadata": {},
   "outputs": [
    {
     "name": "stdout",
     "output_type": "stream",
     "text": [
      "[1, 2, 3, 5, 6, 8, 6, 9, 7, 9, 10, 2, 4, 8]\n"
     ]
    }
   ],
   "source": [
    "#23. Merge two lists.\n",
    "l5 = [1, 2, 3, 5, 6,8, 6, 9, 7, 9, 10]\n",
    "l2 =[2,4,8]\n",
    "l9 = l5 +l2\n",
    "print (l9)"
   ]
  },
  {
   "cell_type": "code",
   "execution_count": 132,
   "id": "a67c445b-aa1b-4e33-b777-61290872d352",
   "metadata": {},
   "outputs": [
    {
     "data": {
      "text/plain": [
       "[2, 4, 6, 10, 12, 14, 18, 20]"
      ]
     },
     "execution_count": 132,
     "metadata": {},
     "output_type": "execute_result"
    }
   ],
   "source": [
    "# 24. Multiply all elements in a list by 2.\n",
    "l3 = [1, 2, 3, 5, 6, 7, 9, 10]\n",
    "list(map(lambda a: a*2,l3))"
   ]
  },
  {
   "cell_type": "code",
   "execution_count": 27,
   "id": "088b5d64-9654-4790-b29f-a02bb7196592",
   "metadata": {},
   "outputs": [
    {
     "data": {
      "text/plain": [
       "[2, 6, 10]"
      ]
     },
     "execution_count": 27,
     "metadata": {},
     "output_type": "execute_result"
    }
   ],
   "source": [
    "#25 Filter out all even numbers from a list.\n",
    "l3 = [1, 2, 3, 5, 6, 7, 9, 10]\n",
    "list(filter(lambda a:a%2 ==0,l3))"
   ]
  },
  {
   "cell_type": "code",
   "execution_count": 28,
   "id": "e60fce93-6fca-40ab-ac40-f34010f68c2f",
   "metadata": {},
   "outputs": [
    {
     "data": {
      "text/plain": [
       "[10, 20, 30, 40, 50]"
      ]
     },
     "execution_count": 28,
     "metadata": {},
     "output_type": "execute_result"
    }
   ],
   "source": [
    "#26. Convert a list of strings to a list of integers.\n",
    "l =[\"10\", \"20\", \"30\", \"40\", \"50\"]\n",
    "l10 =[]\n",
    "for i in l:\n",
    "    i = int(i)\n",
    "    l10.append(i)\n",
    "\n",
    "l10"
   ]
  },
  {
   "cell_type": "code",
   "execution_count": 30,
   "id": "b5b70ccc-a848-4a66-b67b-3f9f27b39c86",
   "metadata": {},
   "outputs": [
    {
     "data": {
      "text/plain": [
       "['10', '20', '30', '40', '50']"
      ]
     },
     "execution_count": 30,
     "metadata": {},
     "output_type": "execute_result"
    }
   ],
   "source": [
    "#27. Convert a list of integers to a list of strings.\n",
    "l10  = [10, 20, 30, 40, 50]\n",
    "\n",
    "l11 = []\n",
    "for i in l10:\n",
    "    i = str(i)\n",
    "    l11.append(i)\n",
    "l11    "
   ]
  },
  {
   "cell_type": "code",
   "execution_count": 39,
   "id": "650dc681-f659-4b76-9410-a332e1e37d0a",
   "metadata": {},
   "outputs": [
    {
     "name": "stdout",
     "output_type": "stream",
     "text": [
      "[12, 3, 4, 5, 4, 5, 1, 2, 3, 4]\n"
     ]
    }
   ],
   "source": [
    "#28.Flatten a nested list.\n",
    "nested_list =[[12,3,4,5],4,5,[1,2,3,4]]\n",
    "\n",
    "def flatten_list(nested):\n",
    "    flattend =[]\n",
    "    for sublist in nested:\n",
    "        if isinstance(sublist,list):\n",
    "            flattend.extend(flatten_list(sublist))\n",
    "        else :\n",
    "            flattend.append(sublist)\n",
    "    return flattend\n",
    "\n",
    "print(flatten_list(nested_list))  "
   ]
  },
  {
   "cell_type": "code",
   "execution_count": 42,
   "id": "d356e9a0-4235-46ac-b6c3-24dc734b55b0",
   "metadata": {},
   "outputs": [
    {
     "name": "stdout",
     "output_type": "stream",
     "text": [
      "first 10 fibonacci numbers [0, 1, 1, 2, 3, 5, 8, 13, 21, 34]\n"
     ]
    }
   ],
   "source": [
    "#29. Create a list of the first 10 Fibonacci numbers.\n",
    "def Fibonacci_numbers(n):\n",
    "    fibonacci_list = [0,1]\n",
    "    \n",
    "    for i in range(2,n):\n",
    "        next_fibonacci = fibonacci_list[i-1]+fibonacci_list[i-2]\n",
    "        fibonacci_list.append(next_fibonacci)\n",
    "    return fibonacci_list\n",
    "print('first 10 fibonacci numbers', Fibonacci_numbers(10))"
   ]
  },
  {
   "cell_type": "code",
   "execution_count": 46,
   "id": "c8aa3723-a846-4e8d-a14a-06f3568e2294",
   "metadata": {},
   "outputs": [
    {
     "name": "stdout",
     "output_type": "stream",
     "text": [
      "False\n"
     ]
    }
   ],
   "source": [
    "#30. Check if a list is sorted.\n",
    "l2 = [1,3,2,4,26,76,8]\n",
    "\n",
    "def is_sorted_list(l2):\n",
    "    for i in range(1,len(l2)):\n",
    "        if l2[i]< l2[i-1]:\n",
    "            return False\n",
    "    return True\n",
    "\n",
    "print(is_sorted_list(l2))\n",
    "        "
   ]
  },
  {
   "cell_type": "code",
   "execution_count": 48,
   "id": "9fba69a8-63b1-4626-a474-977a99eeb17c",
   "metadata": {},
   "outputs": [
    {
     "name": "stdout",
     "output_type": "stream",
     "text": [
      "[3, 4, 5, 6, 1, 2]\n"
     ]
    }
   ],
   "source": [
    "#31. Rotate a list to the left by `n` positions.\n",
    "#Function to rotate a list to the left by n positions\n",
    "def Rotate_left(lst,n):\n",
    "    n = n% len(lst) #Normalize n to handle cases where n is large than list length\n",
    "    #print (n)\n",
    "    rotated = lst[n:]+ lst[:n]\n",
    "    return rotated\n",
    "print(Rotate_left([1,2,3,4,5,6],2))            "
   ]
  },
  {
   "cell_type": "code",
   "execution_count": 49,
   "id": "f382b5e2-a1b9-44c0-bf51-f039bb4c11f8",
   "metadata": {},
   "outputs": [
    {
     "name": "stdout",
     "output_type": "stream",
     "text": [
      "[5, 6, 1, 2, 3, 4]\n"
     ]
    }
   ],
   "source": [
    "#32. Rotate a list to the right by `n` positions.\n",
    "#Function to ratate a list to the right by n positions\n",
    "def Rotate_right(lst,n):\n",
    "    n = n % len(lst) # normalize n to handle cases where n is large than list length\n",
    "    #print(n)\n",
    "    rotated = lst[-n:]+ lst[:-n]\n",
    "    return rotated\n",
    "print(Rotate_right([1,2,3,4,5,6],2))"
   ]
  },
  {
   "cell_type": "code",
   "execution_count": 16,
   "id": "940d0020-f7a3-4939-b56b-0cb3e344aed0",
   "metadata": {},
   "outputs": [
    {
     "name": "stdout",
     "output_type": "stream",
     "text": [
      "5 25\n",
      "5 29\n",
      "5 31\n",
      "5 35\n",
      "5 37\n",
      "5 41\n",
      "5 43\n",
      "5 47\n",
      "5 49\n",
      "[2, 3, 5, 7, 11, 13, 17, 19, 23, 29, 31, 37, 41, 43, 47]\n"
     ]
    }
   ],
   "source": [
    "#33. Create a list of prime numbers up to 50.\n",
    "def is_prime(n):\n",
    "    if n <= 1:\n",
    "        return False\n",
    "    if n <= 3:\n",
    "        return True\n",
    "    if n %2 == 0 or n %3 == 0:\n",
    "        return False\n",
    "    i =5\n",
    "    while i * i <= n:\n",
    "        print(i,n)\n",
    "        if n % i == 0 or n % (i+2) == 0:\n",
    "            return False\n",
    "        i +=6\n",
    "    return True\n",
    "#create a list of prime numbers up to 50\n",
    "prime_numbers = [n  for n in range(2,50) if is_prime(n)]\n",
    "\n",
    "print(prime_numbers)"
   ]
  },
  {
   "cell_type": "code",
   "execution_count": 50,
   "id": "f82fc70a-a909-4c27-b2cf-7abc7f4cc94e",
   "metadata": {},
   "outputs": [
    {
     "name": "stdout",
     "output_type": "stream",
     "text": [
      "[1, 3, 2]\n",
      "[4, 26, 76]\n",
      "[8]\n"
     ]
    }
   ],
   "source": [
    "#34. Split a list into chunks of size `n`.\n",
    "l2 =[1, 3, 2, 4, 26, 76, 8]\n",
    "s =0\n",
    "end =len(l2)\n",
    "n =3\n",
    "for i in range(s,end, n):\n",
    "    x = i\n",
    "    print(l2[x:x+n])"
   ]
  },
  {
   "cell_type": "code",
   "execution_count": 11,
   "id": "6711f6ed-daf8-4ba5-8cfa-b65e54984e3c",
   "metadata": {},
   "outputs": [
    {
     "name": "stdout",
     "output_type": "stream",
     "text": [
      "Second largest number:  35\n"
     ]
    }
   ],
   "source": [
    "#35. Find the second largest number in a list\n",
    "list1 = [10,15,20,15,45,35]\n",
    "#Remove duplicate and sort the list in ascending order\n",
    "sorted_list = sorted(set(list1))\n",
    "#Find the second largest number\n",
    "if len(sorted_list)>=2:\n",
    "    second_largest = sorted_list[-2]\n",
    "    print('Second largest number: ',second_largest)\n",
    "else:\n",
    "    print('The list does not have enough elements')\n",
    "    "
   ]
  },
  {
   "cell_type": "code",
   "execution_count": 14,
   "id": "f23ef1d5-4b3c-43d2-9996-cde9ffc02688",
   "metadata": {},
   "outputs": [
    {
     "data": {
      "text/plain": [
       "[100, 225, 400, 225, 2025, 1225]"
      ]
     },
     "execution_count": 14,
     "metadata": {},
     "output_type": "execute_result"
    }
   ],
   "source": [
    "#36. Replace every element in a list with its square.\n",
    "list1 = [10,15,20,15,45,35]\n",
    "#Replace every element with its squar using a map:\n",
    "square_list =list(map(lambda a: a**2,list1))\n",
    "square_list"
   ]
  },
  {
   "cell_type": "code",
   "execution_count": 16,
   "id": "a2387d15-8913-41f9-ae55-26acbdb302b7",
   "metadata": {},
   "outputs": [
    {
     "name": "stdout",
     "output_type": "stream",
     "text": [
      "{'a': 0, 'be': 1, 'cat': 2, 'doll': 3}\n"
     ]
    }
   ],
   "source": [
    "#37. Convert a list to a dictionary where list elements become keys and their indices become values.\n",
    "list2= ['a','be','cat','doll']\n",
    "#convert list to dictionry using dictionary comprehension\n",
    "my_dict ={element:index for index, element in enumerate(list2)}\n",
    "print(my_dict)"
   ]
  },
  {
   "cell_type": "code",
   "execution_count": 17,
   "id": "f7a44a8d-5dbe-4797-bc2b-bb62f0c1e299",
   "metadata": {},
   "outputs": [
    {
     "name": "stdout",
     "output_type": "stream",
     "text": [
      "shuffled lsit [3, 2, 1, 4, 5]\n"
     ]
    }
   ],
   "source": [
    "#38. Shuffle the elements of a list randomly.\n",
    "import random\n",
    "lsit3 =[1,2,3,4,5]\n",
    "#shuffle the list randomly\n",
    "random.shuffle(lsit3)\n",
    "\n",
    "print('shuffled lsit',lsit3)"
   ]
  },
  {
   "cell_type": "code",
   "execution_count": 18,
   "id": "8698aedb-6d65-4810-9b9e-068e54e24706",
   "metadata": {},
   "outputs": [
    {
     "name": "stdout",
     "output_type": "stream",
     "text": [
      "[1, 1, 2, 6, 24, 120, 720, 5040, 40320, 362880]\n"
     ]
    }
   ],
   "source": [
    "#39. Create a list of the first 10 factorial numbers.\n",
    "def fact(n):\n",
    "    if n == 0 or n==1:\n",
    "        return 1\n",
    "    else:\n",
    "        return n*fact(n-1)\n",
    "# create a list of the first 10 factorial numbers  using list comphrension\n",
    "factorial_numbers =[fact(i) for i in range(10)]\n",
    "\n",
    "print(factorial_numbers)\n",
    "    "
   ]
  },
  {
   "cell_type": "code",
   "execution_count": 21,
   "id": "b111d5e0-2c92-4dae-bb1a-34c1e3078d87",
   "metadata": {},
   "outputs": [
    {
     "name": "stdout",
     "output_type": "stream",
     "text": [
      "True\n"
     ]
    }
   ],
   "source": [
    "#40. Check if two lists have at least one element in common.\n",
    "def has_common_element(list1,list2):\n",
    "    for item in list1:\n",
    "        if item in list2:\n",
    "            return True\n",
    "\n",
    "    return False\n",
    "print(has_common_element([12,3,4,5],[5,6,7]))       \n",
    "        "
   ]
  },
  {
   "cell_type": "code",
   "execution_count": 23,
   "id": "86bc8bf2-78c2-4fc7-9b45-b7abb6c838fd",
   "metadata": {},
   "outputs": [
    {
     "name": "stdout",
     "output_type": "stream",
     "text": [
      "[]\n"
     ]
    }
   ],
   "source": [
    "#41. Remove all elements from a list.\n",
    "lst1 =[1,2,3]\n",
    "lst1.clear()\n",
    "print(lst1)"
   ]
  },
  {
   "cell_type": "code",
   "execution_count": 24,
   "id": "d0516c61-b88d-4f67-89b2-f4507e9fa65e",
   "metadata": {},
   "outputs": [
    {
     "name": "stdout",
     "output_type": "stream",
     "text": [
      "[10, 0, 20, 0, 30, 0]\n"
     ]
    }
   ],
   "source": [
    "#42. Replace negative numbers in a list with 0\n",
    "lst2 =[10, -5, 20, -15, 30, -25]\n",
    "for i in range(len(lst2)):\n",
    "    if lst2[i] < 0:\n",
    "        lst2[i] = 0\n",
    "print(lst2)        "
   ]
  },
  {
   "cell_type": "code",
   "execution_count": 51,
   "id": "c230a0f7-bfcd-4455-ab51-51beb1e52f16",
   "metadata": {},
   "outputs": [
    {
     "name": "stdout",
     "output_type": "stream",
     "text": [
      "['Hello!', \"How's\", 'is', 'your', 'day?']\n"
     ]
    }
   ],
   "source": [
    "#43. Convert a string into a list of words\n",
    "s =\"Hello! How's is your day?\"\n",
    "word_list =s.split(\" \")\n",
    "print(word_list)"
   ]
  },
  {
   "cell_type": "code",
   "execution_count": 53,
   "id": "c7f15907-79d5-46ca-b00f-8f17f3235ef9",
   "metadata": {},
   "outputs": [
    {
     "name": "stdout",
     "output_type": "stream",
     "text": [
      "Hello! How's is your day?\n"
     ]
    }
   ],
   "source": [
    "#44. Convert a list of words into a string\n",
    "word_list =['Hello!', \"How's\", 'is', 'your', 'day?']\n",
    "string = \" \".join(word_list)\n",
    "print(string)"
   ]
  },
  {
   "cell_type": "code",
   "execution_count": 34,
   "id": "e4d74bb1-64df-42ed-8195-5e34993c083e",
   "metadata": {},
   "outputs": [
    {
     "name": "stdout",
     "output_type": "stream",
     "text": [
      "[1, 2, 4, 8, 16, 32, 64]\n"
     ]
    }
   ],
   "source": [
    "#45. Create a list of the first n powers of 2.\n",
    "n = 7\n",
    "# Create a list of the first n powers of 2 using loop in list comprehsion\n",
    "power_list =[2** i for i in range(n)]\n",
    "\n",
    "print(power_list)"
   ]
  },
  {
   "cell_type": "code",
   "execution_count": 36,
   "id": "f6cba288-a2c5-4ce7-bde7-40a3d9c75a0c",
   "metadata": {},
   "outputs": [
    {
     "name": "stdout",
     "output_type": "stream",
     "text": [
      "elderberry\n"
     ]
    }
   ],
   "source": [
    "#46. Find the longest string in a list of strings.\n",
    "string_list = [\"apple\", \"banana\", \"cherry\",'elderberry','date']\n",
    "\n",
    "#Find the longest string in a list\n",
    "longest_string = \"\"\n",
    "for i in string_list:\n",
    "    if len(i) > len(longest_string):\n",
    "        longest_string = i\n",
    "\n",
    "print(longest_string)"
   ]
  },
  {
   "cell_type": "code",
   "execution_count": 40,
   "id": "6209c08a-6e05-463e-87c7-12b74352fc2b",
   "metadata": {},
   "outputs": [
    {
     "name": "stdout",
     "output_type": "stream",
     "text": [
      "date\n"
     ]
    }
   ],
   "source": [
    "#47. Find the shortest string in a list of strings.\n",
    "string_list = [\"apple\", \"banana\", \"cherry\",'elderberry','date']\n",
    "\n",
    "#Find the shortest string in a list\n",
    "shortest_string = string_list[0]\n",
    "for i in string_list:\n",
    "    if len(i) < len(shortest_string):\n",
    "        shortest_string = i\n",
    "\n",
    "print(shortest_string)"
   ]
  },
  {
   "cell_type": "code",
   "execution_count": 42,
   "id": "6b2a2780-996e-4131-bfc6-e7dfe7b47b92",
   "metadata": {},
   "outputs": [
    {
     "name": "stdout",
     "output_type": "stream",
     "text": [
      "[1, 3, 6, 10, 15, 21, 28]\n"
     ]
    }
   ],
   "source": [
    "#48. Create a list of the first n triangular numbers.\n",
    "def triangular_numbers(n):\n",
    "    return [ i *(i+1)//2 for i in range(1,n+1)]\n",
    "\n",
    "#specify n value\n",
    "n =7\n",
    "print(triangular_numbers(7))"
   ]
  },
  {
   "cell_type": "code",
   "execution_count": 49,
   "id": "17352c34-b6ad-4225-b60d-83186f1efa9b",
   "metadata": {
    "tags": []
   },
   "outputs": [
    {
     "name": "stdout",
     "output_type": "stream",
     "text": [
      "True\n"
     ]
    }
   ],
   "source": [
    "#49. Check if a list contains another list as a subsequence.\n",
    "def is_subsequence(subsequence, main_list):\n",
    "    subseq_index =0 #Index for the subsequesnce elements\n",
    "    for i in main_list:\n",
    "        if i == subsequence[subseq_index]:\n",
    "            subseq_index +=1\n",
    "            if subseq_index == len(subsequence):\n",
    "                return True\n",
    "    return False \n",
    "print(is_subsequence([4,5],[1,2,3,4,5,6]))\n"
   ]
  },
  {
   "cell_type": "code",
   "execution_count": 2,
   "id": "6cae446f-0c45-404d-8a64-d483649e714a",
   "metadata": {},
   "outputs": [
    {
     "name": "stdout",
     "output_type": "stream",
     "text": [
      "[1, 23, 2, 4, 5]\n"
     ]
    }
   ],
   "source": [
    "#50. Swap two elements in a list by their indices.\n",
    "lst =[1,2,23,4,5]\n",
    "\n",
    "# indices of elements to swap\n",
    "index1 =1\n",
    "index2 = 2\n",
    "#swap the elements at the specified indices\n",
    "temp = lst[index1]\n",
    "lst[index1] = lst[index2]\n",
    "lst[index2] = temp\n",
    "\n",
    "print(lst)\n"
   ]
  },
  {
   "cell_type": "code",
   "execution_count": null,
   "id": "9cf3f3f7-0f73-4957-b79a-60c78d67ff70",
   "metadata": {},
   "outputs": [],
   "source": [
    "#tuple"
   ]
  },
  {
   "cell_type": "code",
   "execution_count": 1,
   "id": "b82ca465-00f6-4dee-b4d5-aeac76dbabd9",
   "metadata": {},
   "outputs": [
    {
     "data": {
      "text/plain": [
       "(1, 2, 3, 4, 5)"
      ]
     },
     "execution_count": 1,
     "metadata": {},
     "output_type": "execute_result"
    }
   ],
   "source": [
    "#1. Create a tuple with integers from 1 to 5.\n",
    "t = (1,2,3,4,5)\n",
    "t"
   ]
  },
  {
   "cell_type": "code",
   "execution_count": 54,
   "id": "bd252d2e-b84d-4da7-99f6-67bb3d8929c6",
   "metadata": {},
   "outputs": [
    {
     "data": {
      "text/plain": [
       "3"
      ]
     },
     "execution_count": 54,
     "metadata": {},
     "output_type": "execute_result"
    }
   ],
   "source": [
    "#2. Access the third element of a tuple.\n",
    "t = (1,2,3,4,5)\n",
    "t[2]"
   ]
  },
  {
   "cell_type": "code",
   "execution_count": 3,
   "id": "8c236dc6-aadc-4a05-91a9-b1b43c3db4eb",
   "metadata": {},
   "outputs": [
    {
     "name": "stdout",
     "output_type": "stream",
     "text": [
      "6\n"
     ]
    }
   ],
   "source": [
    "#3. Find the length of a tuple without using the `len()` function.\n",
    "t = (1,2,3,4,5,7)\n",
    "def find_Len(t):\n",
    "    count =0\n",
    "    for i in t:\n",
    "        count+= 1\n",
    "    return(count) \n",
    "\n",
    "print(find_Len(t))"
   ]
  },
  {
   "cell_type": "code",
   "execution_count": 16,
   "id": "076dd3e7-ec62-47b4-8e1c-5eb7862edd17",
   "metadata": {},
   "outputs": [
    {
     "data": {
      "text/plain": [
       "2"
      ]
     },
     "execution_count": 16,
     "metadata": {},
     "output_type": "execute_result"
    }
   ],
   "source": [
    "#4. Count the occurrences of an element in a tuple.\n",
    "t1 = (1,2,3,3,4,5)\n",
    "t1.count(3)"
   ]
  },
  {
   "cell_type": "code",
   "execution_count": 57,
   "id": "1403a490-0ee2-4aff-9c0d-f69c10f05660",
   "metadata": {},
   "outputs": [
    {
     "data": {
      "text/plain": [
       "1"
      ]
     },
     "execution_count": 57,
     "metadata": {},
     "output_type": "execute_result"
    }
   ],
   "source": [
    "#5. Find the index of the first occurrence of an element in a tuple.\n",
    "t1 = (1,2,3,3,4,5)\n",
    "t1.index(2)"
   ]
  },
  {
   "cell_type": "code",
   "execution_count": 58,
   "id": "767a0bba-fbaa-4bb8-a539-8b27acb02cec",
   "metadata": {},
   "outputs": [
    {
     "name": "stdout",
     "output_type": "stream",
     "text": [
      "True\n"
     ]
    }
   ],
   "source": [
    "#6. Check if an element exists in a tuple.\n",
    "t1 = (1,2,3,3,4,5)\n",
    "if 3 in t1:\n",
    "    print(True)"
   ]
  },
  {
   "cell_type": "code",
   "execution_count": 27,
   "id": "abada9d2-1dbd-41d2-8bc9-31ca6412fbbd",
   "metadata": {},
   "outputs": [
    {
     "name": "stdout",
     "output_type": "stream",
     "text": [
      "[1, 2, 3, 3, 4, 5]\n"
     ]
    }
   ],
   "source": [
    "#7. Convert a tuple to a list.\n",
    "t1 = (1,2,3,3,4,5)\n",
    "i =list(t1)\n",
    "print(i)"
   ]
  },
  {
   "cell_type": "code",
   "execution_count": 5,
   "id": "f93ac5a8-0edf-4343-a0ba-a542eda7bf4a",
   "metadata": {},
   "outputs": [
    {
     "name": "stdout",
     "output_type": "stream",
     "text": [
      "(1, 2, 3, 3, 4, 5)\n"
     ]
    }
   ],
   "source": [
    "#8. Convert a list to a tuple.\n",
    "l= [1, 2, 3, 3, 4, 5]\n",
    "t1 =tuple(l)\n",
    "print(t1)"
   ]
  },
  {
   "cell_type": "code",
   "execution_count": 36,
   "id": "2b99e6cb-27e9-468f-aba8-5726dcb84f29",
   "metadata": {},
   "outputs": [
    {
     "name": "stdout",
     "output_type": "stream",
     "text": [
      "1\n",
      "[2, 3, 3, 4]\n",
      "5\n"
     ]
    }
   ],
   "source": [
    "#9. Unpack the elements of a tuple into variables.\n",
    "a,*b,f =(1, 2, 3, 3, 4, 5)\n",
    "print(a)\n",
    "print(b)\n",
    "print(f)\n"
   ]
  },
  {
   "cell_type": "code",
   "execution_count": 44,
   "id": "ad3d0502-f16c-4e2d-9643-21e46e57ded1",
   "metadata": {},
   "outputs": [
    {
     "name": "stdout",
     "output_type": "stream",
     "text": [
      "2,4,6,8,10,"
     ]
    }
   ],
   "source": [
    "#10. Create a tuple of even numbers from 1 to 10.\n",
    "for i in range(1,11):\n",
    "    if i%2 ==0:\n",
    "        print(i,end=\",\")\n",
    "               "
   ]
  },
  {
   "cell_type": "code",
   "execution_count": 45,
   "id": "980d4ca4-9e09-43b3-ad9a-934344899414",
   "metadata": {},
   "outputs": [
    {
     "name": "stdout",
     "output_type": "stream",
     "text": [
      "1\n",
      "3\n",
      "5\n",
      "7\n",
      "9\n"
     ]
    }
   ],
   "source": [
    "#11. Create a tuple of odd numbers from 1 to 10.\n",
    "i =1\n",
    "n=10\n",
    "while i <=n:\n",
    "    if i%2 != 0:\n",
    "        print(i)\n",
    "    i +=1   \n"
   ]
  },
  {
   "cell_type": "code",
   "execution_count": 60,
   "id": "7c11b2b8-cd47-4167-a4a3-9c44eb88430d",
   "metadata": {},
   "outputs": [
    {
     "name": "stdout",
     "output_type": "stream",
     "text": [
      " the concatenate of t,t1: (1, 2, 3, 4, 5, 1, 2, 3, 3, 4, 5)\n"
     ]
    }
   ],
   "source": [
    "#12. Concatenate two tuples.\n",
    "t = (1,2,3,4,5)\n",
    "t1 = (1,2,3,3,4,5)\n",
    "t3 = t +t1\n",
    "print(' the concatenate of t,t1:',t3)\n"
   ]
  },
  {
   "cell_type": "code",
   "execution_count": 61,
   "id": "7d51d8d3-4211-4b80-9f48-3b94ca4d7cbf",
   "metadata": {},
   "outputs": [
    {
     "name": "stdout",
     "output_type": "stream",
     "text": [
      "(1, 2, 3, 4, 5, 1, 2, 3, 3, 4, 5, 1, 2, 3, 4, 5, 1, 2, 3, 3, 4, 5, 1, 2, 3, 4, 5, 1, 2, 3, 3, 4, 5)\n"
     ]
    }
   ],
   "source": [
    "#13. Repeat a tuple three times.\n",
    "t3 =(1, 2, 3, 4, 5, 1, 2, 3, 3, 4, 5)\n",
    "t4 = t3*3\n",
    "print(t4)"
   ]
  },
  {
   "cell_type": "code",
   "execution_count": 63,
   "id": "eaa78545-0367-4835-9785-d056ac83c504",
   "metadata": {},
   "outputs": [
    {
     "name": "stdout",
     "output_type": "stream",
     "text": [
      "tuple is empty\n"
     ]
    }
   ],
   "source": [
    "#14. Check if a tuple is empty.\n",
    "t5 = ()\n",
    "if i in t5:\n",
    "    print(\"tuple is not empty\")\n",
    "else:\n",
    "    print(\"tuple is empty\")"
   ]
  },
  {
   "cell_type": "code",
   "execution_count": 66,
   "id": "96b897cf-0bfd-4069-a9b3-9a4786a618df",
   "metadata": {
    "tags": []
   },
   "outputs": [
    {
     "data": {
      "text/plain": [
       "((1, 2, 3), (3, 4, 5), (6, 7))"
      ]
     },
     "execution_count": 66,
     "metadata": {},
     "output_type": "execute_result"
    }
   ],
   "source": [
    "#15. Create a nested tuple.\n",
    "nested_tuple = ((1, 2, 3), (3, 4, 5),(6,7))\n",
    "nested_tuple"
   ]
  },
  {
   "cell_type": "code",
   "execution_count": 67,
   "id": "89c4ff78-0668-44f9-8c00-2b63f55c0423",
   "metadata": {},
   "outputs": [
    {
     "data": {
      "text/plain": [
       "(1, 2, 3)"
      ]
     },
     "execution_count": 67,
     "metadata": {},
     "output_type": "execute_result"
    }
   ],
   "source": [
    "#16. Access the first element of a nested tuple.\n",
    "nested_tuple[0]"
   ]
  },
  {
   "cell_type": "code",
   "execution_count": 68,
   "id": "f4af5c3a-bd69-406a-8f26-0dd08522048c",
   "metadata": {},
   "outputs": [
    {
     "data": {
      "text/plain": [
       "(3,)"
      ]
     },
     "execution_count": 68,
     "metadata": {},
     "output_type": "execute_result"
    }
   ],
   "source": [
    "#17. Create a tuple with a single element.\n",
    "t7 = (3,)\n",
    "t7"
   ]
  },
  {
   "cell_type": "code",
   "execution_count": 71,
   "id": "ed04e45d-4eae-4b67-902c-23ee105af29d",
   "metadata": {},
   "outputs": [
    {
     "name": "stdout",
     "output_type": "stream",
     "text": [
      "True\n",
      "True\n",
      "True\n",
      "True\n",
      "False\n",
      "False\n"
     ]
    }
   ],
   "source": [
    "#18. Compare two tuples\n",
    "tuple1 = (1, 2, 3, 3, 4, 5)\n",
    "tuple2 = (1, 2, 3, (3, 4, 5), 6, 7)\n",
    "\n",
    "for i in tuple1:\n",
    "    if i in tuple2:\n",
    "        print(True)\n",
    "        \n",
    "    else:\n",
    "        print(False)\n"
   ]
  },
  {
   "cell_type": "code",
   "execution_count": 88,
   "id": "dd257853-f188-43a0-83a4-859a9a3c57bf",
   "metadata": {},
   "outputs": [
    {
     "name": "stdout",
     "output_type": "stream",
     "text": [
      "False\n"
     ]
    }
   ],
   "source": [
    "#18. Compare two tuples\n",
    "t1 = (1, 2, 3, 3, 4, 5)\n",
    "t6 = (1, 2, 3, (3, 4, 5), 6, 7)\n",
    "\n",
    "if t1 ==t6:\n",
    "    print(True)\n",
    "    \n",
    "else:\n",
    "    print(False)        \n"
   ]
  },
  {
   "cell_type": "code",
   "execution_count": 92,
   "id": "63c1a4dd-fd3b-4627-8f70-ac021d6f82fb",
   "metadata": {},
   "outputs": [],
   "source": [
    "#19. Delete a tuple.\n",
    "t7 =(1,2,3,4,5)\n",
    "del t7\n"
   ]
  },
  {
   "cell_type": "code",
   "execution_count": 2,
   "id": "d866eb4e-7e78-4c42-9e66-ddadbf5d41c1",
   "metadata": {},
   "outputs": [
    {
     "data": {
      "text/plain": [
       "(7, 6, (3, 4, 5))"
      ]
     },
     "execution_count": 2,
     "metadata": {},
     "output_type": "execute_result"
    }
   ],
   "source": [
    "#20. Slice a tuple.\n",
    "t6 =(1, 2, 3, (3, 4, 5), 6, 7)\n",
    "t6[-1:-4:-1]"
   ]
  },
  {
   "cell_type": "code",
   "execution_count": 7,
   "id": "40d6fc11-6c76-4e21-bc5f-228cab5abfee",
   "metadata": {},
   "outputs": [
    {
     "name": "stdout",
     "output_type": "stream",
     "text": [
      "7\n"
     ]
    }
   ],
   "source": [
    "#21. Find the maximum value in a tuple.\n",
    "t7 = (1, 2, 3, 6, 7)\n",
    "print(max(t7))"
   ]
  },
  {
   "cell_type": "code",
   "execution_count": 8,
   "id": "e5b05c8d-2a6b-430a-ae62-cbbf939952be",
   "metadata": {},
   "outputs": [
    {
     "name": "stdout",
     "output_type": "stream",
     "text": [
      "0\n"
     ]
    }
   ],
   "source": [
    "#22. Find the minimum value in a tuple.\n",
    "t7 = (1, 2, 3, 6, 7,0)\n",
    "print(min(t7))\n"
   ]
  },
  {
   "cell_type": "code",
   "execution_count": 23,
   "id": "368d51e9-a1c5-472d-98f3-ea384b2f1fe8",
   "metadata": {},
   "outputs": [
    {
     "name": "stdout",
     "output_type": "stream",
     "text": [
      "('H', 'i', '!')\n"
     ]
    }
   ],
   "source": [
    "#23. Convert a string to a tuple of characters.\n",
    "s = 'Hi!'\n",
    "t7 =tuple(s)\n",
    "print(t7)"
   ]
  },
  {
   "cell_type": "code",
   "execution_count": 73,
   "id": "4769c3bb-8fb5-4a13-a2a2-a6a387586080",
   "metadata": {},
   "outputs": [
    {
     "name": "stdout",
     "output_type": "stream",
     "text": [
      "Hi!\n"
     ]
    }
   ],
   "source": [
    "#24. Convert a tuple of characters to a string.\n",
    "t7 = ('H', 'i', '!')\n",
    "print(''.join(t7))\n"
   ]
  },
  {
   "cell_type": "code",
   "execution_count": 41,
   "id": "bb74dbd0-a8c1-48a4-9674-a2f3f96731b7",
   "metadata": {},
   "outputs": [
    {
     "data": {
      "text/plain": [
       "(1, 2, 3, 'venkatesh', [1, 2, 3], True, {'lovely', 'time peried'})"
      ]
     },
     "execution_count": 41,
     "metadata": {},
     "output_type": "execute_result"
    }
   ],
   "source": [
    "#25. Create a tuple from multiple data types.\n",
    "t8 =(1, 2,3,'venkatesh',[1,2,3],True,{'lovely', 'time peried'})\n",
    "t8"
   ]
  },
  {
   "cell_type": "code",
   "execution_count": 45,
   "id": "14e099e3-3401-4c95-9a92-f577bd96d4d4",
   "metadata": {},
   "outputs": [
    {
     "name": "stdout",
     "output_type": "stream",
     "text": [
      "tuples are not identical\n"
     ]
    }
   ],
   "source": [
    "#26. Check if two tuples are identical.\n",
    "t6 =(1, 2, 3, (3, 4, 5), 6, 7)\n",
    "t7 = ('H', 'i', '!')\n",
    "if t6 == t7:\n",
    "    print('tuples are identical')\n",
    "else:\n",
    "    print('tuples are not identical')"
   ]
  },
  {
   "cell_type": "code",
   "execution_count": 2,
   "id": "facf0270-94ae-4430-a205-eac0017a88c5",
   "metadata": {},
   "outputs": [
    {
     "data": {
      "text/plain": [
       "(1, 2, 3, 4, 4, 5, 7)"
      ]
     },
     "execution_count": 2,
     "metadata": {},
     "output_type": "execute_result"
    }
   ],
   "source": [
    "#27. Sort the elements of a tuple.\n",
    "t9 = (1,2,4,3,7,4,5)\n",
    "sorted_tuple = tuple(sorted(t9))\n",
    "sorted_tuple"
   ]
  },
  {
   "cell_type": "code",
   "execution_count": 9,
   "id": "017c9143-d0b4-46eb-aa85-365b3ae95c99",
   "metadata": {
    "tags": []
   },
   "outputs": [
    {
     "name": "stdout",
     "output_type": "stream",
     "text": [
      "('1', '2', '4', '3', '7', '4', '5')\n"
     ]
    }
   ],
   "source": [
    "#28. Convert a tuple of integers to a tuple of strings.\n",
    "t9_integers =(1, 2, 4, 3, 7, 4, 5)\n",
    "t9_string = tuple(str(item) for item in t9_integers)\n",
    "print(t9_string)\n",
    "\n"
   ]
  },
  {
   "cell_type": "code",
   "execution_count": 11,
   "id": "f013f9c9-dbb1-402b-ad80-43ad256b87fb",
   "metadata": {},
   "outputs": [
    {
     "name": "stdout",
     "output_type": "stream",
     "text": [
      "(1, 2, 4, 3, 7)\n"
     ]
    }
   ],
   "source": [
    "#29. Convert a tuple of strings to a tuple of integers.\n",
    "t9_string =('1', '2', '4', '3', '7')\n",
    "t9_integer = tuple(int(item) for item in t9_string)\n",
    "print(t9_integer)"
   ]
  },
  {
   "cell_type": "code",
   "execution_count": 21,
   "id": "1bd44505-256e-45dc-8ed5-32450d487355",
   "metadata": {},
   "outputs": [
    {
     "name": "stdout",
     "output_type": "stream",
     "text": [
      "(1, 2, 4, 3, 7, 4, 5, 4, 5, 6, 7, 5)\n"
     ]
    }
   ],
   "source": [
    "#30. Merge two tuples.\n",
    "t9= (1, 2, 4, 3, 7, 4, 5)\n",
    "t0 =(4,5,6,7,5)\n",
    "t10 = t9+t0\n",
    "print(t10)"
   ]
  },
  {
   "cell_type": "code",
   "execution_count": 23,
   "id": "2bbfb9e4-12e7-4a60-8c45-f1901d143b35",
   "metadata": {},
   "outputs": [
    {
     "name": "stdout",
     "output_type": "stream",
     "text": [
      "(1, 2, 4, 3, 7, 1, 2, 3, 4, 5)\n"
     ]
    }
   ],
   "source": [
    "#31. Flatten a nested tuple.\n",
    "def flatten_tuple(nested_tuple):\n",
    "    flattened = []\n",
    "    for item in nested_tuple:\n",
    "        if isinstance(item,tuple):\n",
    "            flattened.extend(flatten_tuple(item))\n",
    "        else:\n",
    "            flattened.append(item)\n",
    "    return flattened \n",
    "# Step 1: Create a nested tuple\n",
    "nested_tuple = (1, 2, 4, 3, 7,(1,2,3), 4, 5)\n",
    "# Step 2: Flatten the nested tuple\n",
    "flattened_tuple = tuple( flatten_tuple(nested_tuple))\n",
    "                    \n",
    "print(flattened_tuple)"
   ]
  },
  {
   "cell_type": "code",
   "execution_count": 30,
   "id": "8902da07-12ea-4548-ba63-462624dfcabe",
   "metadata": {},
   "outputs": [
    {
     "name": "stdout",
     "output_type": "stream",
     "text": [
      "(2, 3, 5, 7, 11)\n"
     ]
    }
   ],
   "source": [
    "#32. Create a tuple of the first 5 prime numbers.\n",
    "def is_prime(num):\n",
    "    if num <=1:\n",
    "        return False\n",
    "    for i in range(2,int(num ** 0.5)+1):\n",
    "        if num %i  == 0:\n",
    "            return False\n",
    "    return True\n",
    "\n",
    "#Generate the first 5 prime numbers\n",
    "prime_numbers_list = [num for num in range(2,100) if is_prime(num)][:5]\n",
    "\n",
    "#typecasting list into tuple\n",
    "prime_numbers_tuple = tuple(prime_numbers_list)\n",
    "\n",
    "print(prime_numbers_tuple)"
   ]
  },
  {
   "cell_type": "code",
   "execution_count": 4,
   "id": "f34550bb-7aa8-49cf-a8ed-13a42c136c5e",
   "metadata": {},
   "outputs": [
    {
     "name": "stdout",
     "output_type": "stream",
     "text": [
      "True\n",
      "False\n",
      "True\n"
     ]
    }
   ],
   "source": [
    "#33. Check if a tuple is a palindrome.\n",
    "def is_palindrome(arr):\n",
    "    left = 0\n",
    "    right = len(arr)-1\n",
    "    \n",
    "    while (left < right):\n",
    "        if arr[left] !=arr[right]:\n",
    "            return False\n",
    "        left +=1\n",
    "        right -=1\n",
    "    return True\n",
    "\n",
    "arr1=[1,2,3,1,2,3]\n",
    "arr2=[2]\n",
    "\n",
    "\n",
    "print(is_palindrome([4,3,2,2,3,4]))\n",
    "print(is_palindrome(arr1))\n",
    "print(is_palindrome(arr2))"
   ]
  },
  {
   "cell_type": "code",
   "execution_count": 42,
   "id": "3c6f96d6-ebb8-452e-be33-05a0473d996b",
   "metadata": {},
   "outputs": [
    {
     "name": "stdout",
     "output_type": "stream",
     "text": [
      "(1, 4, 9, 16, 25)\n"
     ]
    }
   ],
   "source": [
    "#34. Create a tuple of squares of numbers from 1 to 5.\n",
    "square_tuple = tuple(x**2 for x in range(1,6))\n",
    "print(square_tuple)"
   ]
  },
  {
   "cell_type": "code",
   "execution_count": 46,
   "id": "3a6f1d56-ef83-49eb-b091-68a3a7a846d5",
   "metadata": {},
   "outputs": [
    {
     "name": "stdout",
     "output_type": "stream",
     "text": [
      "(2, 4)\n"
     ]
    }
   ],
   "source": [
    "#35. Filter out all even numbers from a tuple.\n",
    "t10 =(1, 2, 3, 4, 5)\n",
    "\n",
    "filtered_tuple = tuple(i  for i in t10 if i%2 ==0)\n",
    "print(filtered_tuple)"
   ]
  },
  {
   "cell_type": "code",
   "execution_count": 52,
   "id": "e1b464ec-340c-450b-ad8e-d2c7f9121224",
   "metadata": {},
   "outputs": [
    {
     "name": "stdout",
     "output_type": "stream",
     "text": [
      "(2, 4, 6, 8, 10)\n"
     ]
    }
   ],
   "source": [
    "#36. Multiply all elements in a tuple by 2.\n",
    "t10 =(1, 2, 3, 4, 5)\n",
    "multiplied_tup = tuple(map(lambda x :x *2 , t10))\n",
    "print(multiplied_tup)\n",
    "\n"
   ]
  },
  {
   "cell_type": "code",
   "execution_count": 1,
   "id": "85a1dc0d-eb0e-4055-b5cb-325a7867abab",
   "metadata": {},
   "outputs": [
    {
     "name": "stdout",
     "output_type": "stream",
     "text": [
      "(18, 59, 31, 30, 28, 13, 42, 54, 62, 60)\n"
     ]
    }
   ],
   "source": [
    "#37. Create a tuple of random numbers.\n",
    "import random\n",
    "\n",
    "random_tuple =tuple(random.randint(1,100) for _ in range(10)) # Generating 10 random numbers between 1 and 100\n",
    "\n",
    "print(random_tuple)"
   ]
  },
  {
   "cell_type": "code",
   "execution_count": 6,
   "id": "ed0a3fd8-b887-4c2f-9c37-fb9473644d0b",
   "metadata": {},
   "outputs": [
    {
     "name": "stdout",
     "output_type": "stream",
     "text": [
      "False\n",
      "True\n"
     ]
    }
   ],
   "source": [
    "#38. Check if a tuple is sorted.\n",
    "def isSorted(t):\n",
    "    for i in range(len(t)-1):\n",
    "        if t[i] > t[i+1]:\n",
    "            return False\n",
    "    return True\n",
    "t =(5,4,3,2,1)\n",
    "t1= (1, 2, 3, 4, 5)\n",
    "print(isSorted(t))\n",
    "print(isSorted(t1))"
   ]
  },
  {
   "cell_type": "code",
   "execution_count": 8,
   "id": "32ac89b9-c66a-4103-ab7f-e9ecddca3832",
   "metadata": {},
   "outputs": [
    {
     "name": "stdout",
     "output_type": "stream",
     "text": [
      "(3, 32, 1, 5, 4)\n"
     ]
    }
   ],
   "source": [
    "#39. Rotate a tuple to the left by n positions.\n",
    "def rotate_tupleLeft(t,n):\n",
    "    n = n%len(t) #to ensure n is with in the range of tuple\n",
    "    rotated_tuple = t[n:]+t[:n] # to rotate the tuple\n",
    "    return rotated_tuple\n",
    "t1 =(5,4,3,32,1)\n",
    "n= 2\n",
    "print(rotate_tupleLeft(t1,n))"
   ]
  },
  {
   "cell_type": "code",
   "execution_count": 10,
   "id": "09d492d9-5174-4460-a1de-31193d9e5dd9",
   "metadata": {},
   "outputs": [
    {
     "name": "stdout",
     "output_type": "stream",
     "text": [
      "(32, 1, 5, 4, 3)\n"
     ]
    }
   ],
   "source": [
    "#40. Rotate a tuple to the right by n positions\n",
    "def rotate_tupleRight(r,n):\n",
    "    n =n %len(r) # to ensure n is with in the range of tuple\n",
    "    rotated_right = r[-n:]+r[:-n]\n",
    "    return rotated_right\n",
    "t1 = (5,4,3,32,1)\n",
    "n = 2\n",
    "print(rotate_tupleRight(t1,2))"
   ]
  },
  {
   "cell_type": "code",
   "execution_count": 19,
   "id": "c6f5ce44-1ca6-4415-b874-e9dd5865a776",
   "metadata": {},
   "outputs": [
    {
     "name": "stdout",
     "output_type": "stream",
     "text": [
      "(0, 1, 1, 2, 3)\n"
     ]
    }
   ],
   "source": [
    "#41. Create a tuple of the first 5 Fibonacci numbers.\n",
    "def fib(n):\n",
    "    fib1 = [0,1] # Initailize the list with first 2 fib numbers\n",
    "    while len(fib1) < n: # continue generating fib numbers until the list has n element\n",
    "        next_number = fib1[-1]+fib1[-2] #calculate the next fibonacci number\n",
    "        fib1.append(next_number) # Add the next fib number to list\n",
    "    return tuple(fib1) # convert the list to a tuple and return it\n",
    "\n",
    "fibTuple = fib(5) #Call the fib function to create a tuple of the first 5 Fibonacci numbers \n",
    "print(fibTuple)\n",
    "  "
   ]
  },
  {
   "cell_type": "code",
   "execution_count": 21,
   "id": "61f314eb-94ec-4b7f-bce5-cb6cc2d78e35",
   "metadata": {},
   "outputs": [
    {
     "name": "stdin",
     "output_type": "stream",
     "text": [
      "Enter elements separated by comma H,a,n,u,ma,n\n"
     ]
    },
    {
     "name": "stdout",
     "output_type": "stream",
     "text": [
      "('H', 'a', 'n', 'u', 'ma', 'n')\n"
     ]
    }
   ],
   "source": [
    "# 42. Create a tuple from user input.\n",
    "input_str = input('Enter elements separated by comma')\n",
    "input_list = input_str.split(',')\n",
    "tup= tuple(input_list)\n",
    "print(tup)\n"
   ]
  },
  {
   "cell_type": "code",
   "execution_count": 6,
   "id": "fa838851-baf4-486c-95df-c6411ed61e62",
   "metadata": {},
   "outputs": [
    {
     "name": "stdout",
     "output_type": "stream",
     "text": [
      "Original tuple: (1, 2, 3, 4)\n",
      "Swapped tuple: (2, 1, 3, 4)\n"
     ]
    }
   ],
   "source": [
    "#43. Swap two elements in a tuple.\n",
    "original_tuple = (1, 2, 3, 4)\n",
    "swapped_tuple = (original_tuple[1], original_tuple[0], original_tuple[2], original_tuple[3])\n",
    "\n",
    "print(\"Original tuple:\", original_tuple)\n",
    "print(\"Swapped tuple:\", swapped_tuple)\n",
    "\n"
   ]
  },
  {
   "cell_type": "code",
   "execution_count": 2,
   "id": "7995d221-7433-4c5c-9c4f-507258b8ddca",
   "metadata": {},
   "outputs": [
    {
     "name": "stdout",
     "output_type": "stream",
     "text": [
      "(5, 4, 3, 2, 1)\n"
     ]
    }
   ],
   "source": [
    "### 44. Reverse the elements of a tuple.\n",
    "tp1 =(1,2,3,4,5)\n",
    "reverse = tp1[::-1]\n",
    "print(reverse)\n"
   ]
  },
  {
   "cell_type": "code",
   "execution_count": 4,
   "id": "0ad22584-499b-4763-9cc2-b1971b47c8ed",
   "metadata": {},
   "outputs": [
    {
     "name": "stdout",
     "output_type": "stream",
     "text": [
      "(1, 2, 4, 8, 16)\n"
     ]
    }
   ],
   "source": [
    "#45. Create a tuple of the first n powers of 2.\n",
    "n =5\n",
    "# Create a tuple of the first n powers of 2 using list comprhension4\n",
    "powerOf_2 = tuple(2** i for i in range(n))\n",
    "\n",
    "print(powerOf_2)"
   ]
  },
  {
   "cell_type": "code",
   "execution_count": 7,
   "id": "be3e3c9f-88a5-4915-a8c8-88f45e4ae617",
   "metadata": {},
   "outputs": [
    {
     "name": "stdout",
     "output_type": "stream",
     "text": [
      "watermelon\n"
     ]
    }
   ],
   "source": [
    "### 46. Find the longest string in a tuple of strings.\n",
    "tuple1 = (\"apple\", \"banana\",'date', 'watermelon')\n",
    "\n",
    "longest_string = max(tuple1, key =len)\n",
    "\n",
    "print(longest_string)"
   ]
  },
  {
   "cell_type": "code",
   "execution_count": 8,
   "id": "3a03eb5a-5667-4b1d-9c0a-0fc2ade8e6ed",
   "metadata": {},
   "outputs": [
    {
     "name": "stdout",
     "output_type": "stream",
     "text": [
      "date\n"
     ]
    }
   ],
   "source": [
    "#47. Find the shortest string in a tuple of strings.\n",
    "tuple1 = (\"apple\", \"banana\",'date', 'watermelon')\n",
    "\n",
    "shortest_string = min(tuple1, key =len)\n",
    "\n",
    "print(shortest_string)\n"
   ]
  },
  {
   "cell_type": "code",
   "execution_count": 9,
   "id": "69c71e32-e88e-49ae-86b8-2ea16c4ead3c",
   "metadata": {},
   "outputs": [
    {
     "name": "stdout",
     "output_type": "stream",
     "text": [
      "(1, 3, 6, 10, 15)\n"
     ]
    }
   ],
   "source": [
    "### 48. Create a tuple of the first `n` triangular numbers.\n",
    "n =5\n",
    "# Create a tuple of the first n triangular numbers using a list comprehension\n",
    "triangular_numbers = tuple((i*(i+1)//2 for i in range(1,n+1)))\n",
    "\n",
    "print(triangular_numbers)"
   ]
  },
  {
   "cell_type": "code",
   "execution_count": 68,
   "id": "81a574d2-3e10-4d77-a20c-6390e8b739e2",
   "metadata": {},
   "outputs": [
    {
     "name": "stdout",
     "output_type": "stream",
     "text": [
      "Main tuple contains subsequence tuple: True\n"
     ]
    }
   ],
   "source": [
    "#49. Check if a tuple contains another tuple as a subsequence.\n",
    "def contains_subsequence(main_tuple, sub_tuple):\n",
    "    sub_length = len(sub_tuple)\n",
    "    for i in range(len(main_tuple)-sub_length+1):\n",
    "        if main_tuple[i:i+sub_length]== sub_tuple:\n",
    "            return True\n",
    "    return False\n",
    "\n",
    "# Main tuple\n",
    "main_tuple = (1, 2, 3, 4, 5, 6, 7, 8, 9)\n",
    "\n",
    "# Subsequence tuple\n",
    "sub_tuple = (3, 4, 5)\n",
    "\n",
    "# Check if the main tuple contains the subsequence tuple\n",
    "contains_subseq = contains_subsequence(main_tuple, sub_tuple)\n",
    "\n",
    "# Print the result\n",
    "print(\"Main tuple contains subsequence tuple:\", contains_subseq)"
   ]
  },
  {
   "cell_type": "code",
   "execution_count": 15,
   "id": "79edcb69-3675-46b7-8d3f-14a9d157168c",
   "metadata": {},
   "outputs": [
    {
     "name": "stdout",
     "output_type": "stream",
     "text": [
      "(0, 1, 0, 1, 0, 1, 0, 1, 0, 1, 0)\n"
     ]
    }
   ],
   "source": [
    "### 50. Create a tuple of alternating 1s and 0s of length `n`.\n",
    "n =11\n",
    "# Create a tuple of alternating 1s and 0s using a list comprehension\n",
    "alternating_tuple = tuple( i%2 for i in range(n))\n",
    "\n",
    "print(alternating_tuple)\n"
   ]
  },
  {
   "cell_type": "code",
   "execution_count": 67,
   "id": "05953a89-38c2-487f-adef-7a77a9a98161",
   "metadata": {},
   "outputs": [
    {
     "name": "stdout",
     "output_type": "stream",
     "text": [
      "{1, 2, 3, 4, 5, 6}\n"
     ]
    }
   ],
   "source": [
    "#TOPIC :SETS\n",
    "#1. Create a set with integers from 1 to 5.\n",
    "s0 =set()\n",
    "\n",
    "s0.add(1)\n",
    "s0.add(2)\n",
    "s0.add(3)\n",
    "s0.add(4)\n",
    "s0.add(5)\n",
    "s0.add(6)\n",
    "print(s0)\n"
   ]
  },
  {
   "cell_type": "code",
   "execution_count": 35,
   "id": "39369ae2-e54d-4bbd-bb89-acbf365efd74",
   "metadata": {},
   "outputs": [
    {
     "data": {
      "text/plain": [
       "{1, 2, 3, 4, 5, 6}"
      ]
     },
     "execution_count": 35,
     "metadata": {},
     "output_type": "execute_result"
    }
   ],
   "source": [
    "#2. Add an element to a set.\n",
    "s0 ={1, 2, 3, 4, 5}\n",
    "s0.add(6)\n",
    "s0"
   ]
  },
  {
   "cell_type": "code",
   "execution_count": 38,
   "id": "460e4d55-ead6-4769-b757-79c080e1bd95",
   "metadata": {},
   "outputs": [
    {
     "data": {
      "text/plain": [
       "{1, 2, 3, 4, 5}"
      ]
     },
     "execution_count": 38,
     "metadata": {},
     "output_type": "execute_result"
    }
   ],
   "source": [
    "#3. Remove an element from a set.\n",
    "s0 ={1, 2, 3, 4, 5, 6}\n",
    "s0.remove(6)\n",
    "s0"
   ]
  },
  {
   "cell_type": "code",
   "execution_count": 64,
   "id": "27456949-a389-45f6-bbf8-55b25dad99fe",
   "metadata": {},
   "outputs": [
    {
     "name": "stdin",
     "output_type": "stream",
     "text": [
      "Enter the element to check:  5\n"
     ]
    },
    {
     "name": "stdout",
     "output_type": "stream",
     "text": [
      "True\n"
     ]
    }
   ],
   "source": [
    "#4. Check if an element exists in a set.\n",
    "s0 = {1, 2, 3, 4, 5}\n",
    "element_to_check = int(input(\"Enter the element to check: \"))\n",
    "if element_to_check in s0:\n",
    "    print(True)\n",
    "else:\n",
    "    print(False)"
   ]
  },
  {
   "cell_type": "code",
   "execution_count": 25,
   "id": "26eca844-3fce-4a3b-b142-144c8cf9a164",
   "metadata": {},
   "outputs": [
    {
     "name": "stdout",
     "output_type": "stream",
     "text": [
      "6\n"
     ]
    }
   ],
   "source": [
    "#5. Find the length of a set without using the `len()` function.\n",
    "s0 ={1, 2, 3, 4, 5,6}\n",
    "count = 0\n",
    "for i in s0:\n",
    "    count+=1\n",
    "print(count)"
   ]
  },
  {
   "cell_type": "code",
   "execution_count": 47,
   "id": "b10bc22a-db6b-4372-ac30-9c26f12d6760",
   "metadata": {},
   "outputs": [
    {
     "data": {
      "text/plain": [
       "set()"
      ]
     },
     "execution_count": 47,
     "metadata": {},
     "output_type": "execute_result"
    }
   ],
   "source": [
    "#6. Clear all elements from a set.\n",
    "s0 ={1, 2, 3, 4, 5}\n",
    "s0.clear()\n",
    "s0"
   ]
  },
  {
   "cell_type": "code",
   "execution_count": 2,
   "id": "34b8a8eb-75de-4c1e-9f2c-e16fcf37d087",
   "metadata": {},
   "outputs": [
    {
     "data": {
      "text/plain": [
       "{2, 4, 6, 8, 10}"
      ]
     },
     "execution_count": 2,
     "metadata": {},
     "output_type": "execute_result"
    }
   ],
   "source": [
    "#7. Create a set of even numbers from 1 to 10.\n",
    "s={1,2,3,4,5,6,7,8,9,10}\n",
    "l1 =[]\n",
    "for i in s:\n",
    "    if i%2 ==0:\n",
    "        l1.append(i)\n",
    "s1 = set(l1)\n",
    "s1"
   ]
  },
  {
   "cell_type": "code",
   "execution_count": 63,
   "id": "00f2ae00-d32d-4695-9a46-e527a4769d95",
   "metadata": {},
   "outputs": [
    {
     "name": "stdout",
     "output_type": "stream",
     "text": [
      "{2, 4, 6, 8, 10}\n"
     ]
    }
   ],
   "source": [
    "s={1,2,3,4,5,6,7,8,9,10}\n",
    "even_set = set()\n",
    "for num in s:\n",
    "    if num%2 ==0:\n",
    "        even_set.add(num)\n",
    "\n",
    "print(even_set)"
   ]
  },
  {
   "cell_type": "code",
   "execution_count": 3,
   "id": "c01d6c68-0869-4c1b-a13e-35efe5909bb8",
   "metadata": {},
   "outputs": [
    {
     "data": {
      "text/plain": [
       "{1, 3, 5, 7, 9}"
      ]
     },
     "execution_count": 3,
     "metadata": {},
     "output_type": "execute_result"
    }
   ],
   "source": [
    "#8. Create a set of odd numbers from 1 to 10.\n",
    "s={1,2,3,4,5,6,7,8,9,10}\n",
    "l2 =[]\n",
    "for i in s:\n",
    "    if i%2 !=0:\n",
    "        l2.append(i)\n",
    "s2 = set(l2)\n",
    "s2"
   ]
  },
  {
   "cell_type": "code",
   "execution_count": 62,
   "id": "8488a244-64ac-48e2-a6c0-dcc3b7151778",
   "metadata": {},
   "outputs": [
    {
     "name": "stdout",
     "output_type": "stream",
     "text": [
      "{1, 3, 5, 7, 9}\n"
     ]
    }
   ],
   "source": [
    "s={1,2,3,4,5,6,7,8,9,10}\n",
    "odd_set = set()\n",
    "for num in s:\n",
    "    if num%2 !=0:\n",
    "        odd_set.add(num)\n",
    "\n",
    "print(odd_set)"
   ]
  },
  {
   "cell_type": "code",
   "execution_count": 9,
   "id": "b54f4d8f-670e-45c2-911e-b37778de85b0",
   "metadata": {},
   "outputs": [
    {
     "name": "stdout",
     "output_type": "stream",
     "text": [
      "{1, 2, 3, 4, 5, 6, 7, 8, 9, 10}\n"
     ]
    }
   ],
   "source": [
    "#9. Find the union of two sets.\n",
    "s1 = {2, 4, 6, 8, 10}\n",
    "s2 ={1, 3, 5, 7, 9}\n",
    "\n",
    "print(s1.union(s2))"
   ]
  },
  {
   "cell_type": "code",
   "execution_count": 19,
   "id": "44ea342c-f5ba-4f1c-bc77-cd6eb513032b",
   "metadata": {},
   "outputs": [
    {
     "name": "stdout",
     "output_type": "stream",
     "text": [
      "{8}\n"
     ]
    }
   ],
   "source": [
    "# 10. Find the intersection of two sets.\n",
    "s1 = {2, 4, 6, 8, 10}\n",
    "s2 ={1, 3, 5, 7, 8,9}\n",
    "print(s1.intersection(s2))"
   ]
  },
  {
   "cell_type": "code",
   "execution_count": 20,
   "id": "95350263-66b2-4d5e-b30c-d3ce504a55ac",
   "metadata": {},
   "outputs": [
    {
     "name": "stdout",
     "output_type": "stream",
     "text": [
      "{2, 10, 4, 6}\n",
      "{1, 3, 5, 7, 9}\n"
     ]
    }
   ],
   "source": [
    "#11. Find the difference between two sets.\n",
    "s1 = {2, 4, 6, 8, 10}\n",
    "s2 ={1, 3, 5, 7, 8,9}\n",
    "print(s1.difference(s2))\n",
    "print(s2.difference(s1))"
   ]
  },
  {
   "cell_type": "code",
   "execution_count": 61,
   "id": "8e83dd4a-49d3-48a6-9fc7-0c9531bac533",
   "metadata": {},
   "outputs": [
    {
     "name": "stdout",
     "output_type": "stream",
     "text": [
      "True\n",
      "False\n"
     ]
    }
   ],
   "source": [
    "#12. Check if a set is a subset of another set.\n",
    "s1 = {2, 4, 6, 1,2,3,8, 10}\n",
    "s3 = {1,2,3}\n",
    "\n",
    "print(s3.issubset(s1))\n",
    "print(s1.issubset(s3))\n"
   ]
  },
  {
   "cell_type": "code",
   "execution_count": 60,
   "id": "af3ec19c-4b63-4d24-8ade-ea5ed3bae698",
   "metadata": {},
   "outputs": [
    {
     "name": "stdout",
     "output_type": "stream",
     "text": [
      "False\n",
      "True\n"
     ]
    }
   ],
   "source": [
    "#13. Check if a set is a superset of another set.\n",
    "s1 = {2, 4, 6,1,3,8, 10}\n",
    "s3 = {1,2,3,4}\n",
    "print(s3.issuperset(s1))\n",
    "print(s1.issuperset(s3))"
   ]
  },
  {
   "cell_type": "code",
   "execution_count": 41,
   "id": "855b82b1-33b5-4502-9948-5d62aec2ad59",
   "metadata": {},
   "outputs": [
    {
     "data": {
      "text/plain": [
       "{1, 2, 3}"
      ]
     },
     "execution_count": 41,
     "metadata": {},
     "output_type": "execute_result"
    }
   ],
   "source": [
    "#14. Create a set from a list.\n",
    "l1 =[1,2,3]\n",
    "s4 = set(l1)\n",
    "s4"
   ]
  },
  {
   "cell_type": "code",
   "execution_count": 45,
   "id": "8f124609-ae76-4546-bd62-71f470b71cf2",
   "metadata": {},
   "outputs": [
    {
     "data": {
      "text/plain": [
       "[1, 2, 3]"
      ]
     },
     "execution_count": 45,
     "metadata": {},
     "output_type": "execute_result"
    }
   ],
   "source": [
    "#15. Convert a set to a list.\n",
    "s4 ={1, 2, 3}\n",
    "l2 = list(s4)\n",
    "l2"
   ]
  },
  {
   "cell_type": "code",
   "execution_count": 58,
   "id": "5df6195a-df56-407e-8b8a-eef0631b6fb4",
   "metadata": {},
   "outputs": [
    {
     "name": "stdout",
     "output_type": "stream",
     "text": [
      "1 {2, 4, 5}\n"
     ]
    }
   ],
   "source": [
    "#16. Remove a random element from a set.\n",
    "\n",
    "import random\n",
    "s4 = {1, 2, 4, 5}\n",
    "random_remove = random.choice(list(s4))\n",
    "s4.remove(random_remove)\n",
    "print(random_remove,s4)"
   ]
  },
  {
   "cell_type": "code",
   "execution_count": 54,
   "id": "7b0d2487-741b-4b5a-8ddc-871100d4965a",
   "metadata": {},
   "outputs": [
    {
     "name": "stdout",
     "output_type": "stream",
     "text": [
      "1\n",
      "3\n",
      "4\n"
     ]
    },
    {
     "data": {
      "text/plain": [
       "{5, 42}"
      ]
     },
     "execution_count": 54,
     "metadata": {},
     "output_type": "execute_result"
    }
   ],
   "source": [
    "#17. Pop an element from a set.\n",
    "s4 ={5,1,42,3,4}\n",
    "print(s4.pop())\n",
    "print(s4.pop())\n",
    "print(s4.pop())\n",
    "\n",
    "s4"
   ]
  },
  {
   "cell_type": "code",
   "execution_count": 48,
   "id": "4815216f-c18d-46e8-9cb6-b064bf417b35",
   "metadata": {},
   "outputs": [
    {
     "name": "stdout",
     "output_type": "stream",
     "text": [
      "True\n"
     ]
    }
   ],
   "source": [
    "#18. Check if two sets have no elements in common.\n",
    "s4 ={1,2,3,4}\n",
    "s5= {5}\n",
    "print(s4.isdisjoint(s5))\n",
    "        "
   ]
  },
  {
   "cell_type": "code",
   "execution_count": 79,
   "id": "ee3fae57-b106-4b3b-a85b-ed7b1ba6f351",
   "metadata": {},
   "outputs": [
    {
     "name": "stdout",
     "output_type": "stream",
     "text": [
      "{1, 2, 5}\n"
     ]
    }
   ],
   "source": [
    "#19. Find the symmetric difference between two sets.\n",
    "s4 ={1,2,3,4}\n",
    "s5= {3,4,5}\n",
    "print(s4.symmetric_difference(s5))\n"
   ]
  },
  {
   "cell_type": "code",
   "execution_count": 47,
   "id": "83c0cd49-08cf-4c29-b3d3-4b3358bdb46d",
   "metadata": {},
   "outputs": [
    {
     "name": "stdout",
     "output_type": "stream",
     "text": [
      "{1, 2, 3, 4, 5, 6}\n"
     ]
    }
   ],
   "source": [
    "#20. Update a set with elements from another set.\n",
    "s4 ={1,2,3,4}\n",
    "s5= {3,4,5,6}\n",
    "(s4.update(s5))\n",
    "print(s4)\n"
   ]
  },
  {
   "cell_type": "code",
   "execution_count": 32,
   "id": "ef08a765-1ed9-4468-8992-211f1745e86e",
   "metadata": {},
   "outputs": [
    {
     "name": "stdout",
     "output_type": "stream",
     "text": [
      "{2, 3, 5, 7, 11}\n"
     ]
    }
   ],
   "source": [
    "#21. Create a set of the first 5 prime numbers.\n",
    "# check if number is prime \n",
    "def is_prime(n):\n",
    "    if n <=1:\n",
    "        return False\n",
    "    for i in range(2, int(n **0.5)+1):\n",
    "        if n % i == 0:\n",
    "            return False\n",
    "    return True\n",
    "# Create an empty set to store the prime numbers\n",
    "prime_set = set()\n",
    "# Initialize the number to start checking for primes\n",
    "n =2\n",
    "# Loop until we have found the first 5 prime numbers\n",
    "\n",
    "while len(prime_set) <5:\n",
    "    if is_prime(n):\n",
    "        prime_set.add(n)\n",
    "    n += 1    \n",
    "    \n",
    "print(prime_set)   "
   ]
  },
  {
   "cell_type": "code",
   "execution_count": 43,
   "id": "89b07408-6b72-4d0a-a1c3-f5f6a339201a",
   "metadata": {},
   "outputs": [
    {
     "name": "stdout",
     "output_type": "stream",
     "text": [
      "True\n"
     ]
    }
   ],
   "source": [
    "#22. Check if two sets are identical.\n",
    "s3 ={1,2,3,4,5}\n",
    "s4 = {1,2,3,4,6}\n",
    "if s3.symmetric_difference(s4) == s4.symmetric_difference(s3):\n",
    "    print(True)\n",
    "else:\n",
    "    print(False)\n",
    "    \n"
   ]
  },
  {
   "cell_type": "code",
   "execution_count": 40,
   "id": "a3250f73-be5b-496a-b6ca-3fbd462caa40",
   "metadata": {},
   "outputs": [
    {
     "name": "stdout",
     "output_type": "stream",
     "text": [
      "frozenset({1, 2, 3, 4, 5, 42})\n"
     ]
    }
   ],
   "source": [
    "#23. Create a frozen set.\n",
    "ele = [1,2,3,42,4,5,3]\n",
    "frozen_set = frozenset(ele)\n",
    "print(frozen_set)"
   ]
  },
  {
   "cell_type": "code",
   "execution_count": 36,
   "id": "fefaeec9-4f6e-464c-9c34-1c8f2a3e1cb3",
   "metadata": {},
   "outputs": [
    {
     "name": "stdout",
     "output_type": "stream",
     "text": [
      "False\n"
     ]
    }
   ],
   "source": [
    "#24. Check if a set is disjoint with another set.\n",
    "s3 = {7,3}\n",
    "s6 = {1, 2, 3, 4,5,6}\n",
    " #The `isdisjoint()` method returns True if the sets have no common elements,\n",
    "if s3.isdisjoint(s6):\n",
    "    print(True)\n",
    "else:\n",
    "    print(False)\n"
   ]
  },
  {
   "cell_type": "code",
   "execution_count": 36,
   "id": "d83b4b7f-221d-4fb4-b9ac-6e9840857f74",
   "metadata": {},
   "outputs": [
    {
     "name": "stdout",
     "output_type": "stream",
     "text": [
      "{1, 4, 9, 16, 25}\n"
     ]
    }
   ],
   "source": [
    "#25. Create a set of squares of numbers from 1 to 5.\n",
    "square_set = set()\n",
    "for n in range(1,6):\n",
    "    square = n **2\n",
    "    square_set.add(square)\n",
    "\n",
    "print(square_set)"
   ]
  },
  {
   "cell_type": "code",
   "execution_count": 25,
   "id": "873af709-6d7b-4ebd-a5ee-39726d0bb90a",
   "metadata": {},
   "outputs": [
    {
     "data": {
      "text/plain": [
       "{2, 4, 6}"
      ]
     },
     "execution_count": 25,
     "metadata": {},
     "output_type": "execute_result"
    }
   ],
   "source": [
    "#26. Filter out all even numbers from a set.\n",
    "s6 ={1, 2, 3, 4, 5, 6}\n",
    "l6 = list(s6)\n",
    "l7 =[]\n",
    "for i in l6:\n",
    "    if i%2 ==0:\n",
    "        l7.append(i)\n",
    "l7 \n",
    "s7 = set(l7)\n",
    "s7"
   ]
  },
  {
   "cell_type": "code",
   "execution_count": 32,
   "id": "8fb4ed83-0ee2-4980-af38-0f395a10efce",
   "metadata": {},
   "outputs": [
    {
     "name": "stdout",
     "output_type": "stream",
     "text": [
      "{2, 4, 6}\n"
     ]
    }
   ],
   "source": [
    "#26. Filter out all even numbers from a set.\n",
    "set1 = {1, 2, 3, 4, 5, 6,7}\n",
    "even_num = set()\n",
    "for num in set1:\n",
    "    if num %2 == 0:\n",
    "        even_num.add(num)\n",
    "print(even_num)"
   ]
  },
  {
   "cell_type": "code",
   "execution_count": 27,
   "id": "51e6cc4d-8a8b-4327-83b7-93f1e6a478cc",
   "metadata": {},
   "outputs": [
    {
     "name": "stdout",
     "output_type": "stream",
     "text": [
      "2\n",
      "4\n",
      "6\n",
      "8\n",
      "10\n",
      "12\n"
     ]
    }
   ],
   "source": [
    "#27. Multiply all elements in a set by 2.\n",
    "s6 ={1, 2, 3, 4, 5, 6}\n",
    "for i in s6:\n",
    "    print(i*2)"
   ]
  },
  {
   "cell_type": "code",
   "execution_count": 31,
   "id": "ac0f0c69-edbd-42d7-94bf-facf8f7b9121",
   "metadata": {},
   "outputs": [
    {
     "data": {
      "text/plain": [
       "{2, 4, 6, 8, 10, 12}"
      ]
     },
     "execution_count": 31,
     "metadata": {},
     "output_type": "execute_result"
    }
   ],
   "source": [
    "set1 ={1, 2, 3, 4, 5, 6}\n",
    "set2 = set(map(lambda x : x*2 , set1))\n",
    "set2"
   ]
  },
  {
   "cell_type": "code",
   "execution_count": 23,
   "id": "f3437ee0-6066-4293-9468-7d033ef1bf64",
   "metadata": {},
   "outputs": [
    {
     "name": "stdout",
     "output_type": "stream",
     "text": [
      "{42, 45, 48, 52, 91, 28}\n"
     ]
    }
   ],
   "source": [
    "#28. Create a set of random numbers.\n",
    "import random\n",
    "#input the no.of random numbers you want in the set\n",
    "num_random_numbers =7\n",
    "# create an empty set to store the random numbers\n",
    "random_set = set()\n",
    "\n",
    "for i in range(num_random_numbers):\n",
    "    #generate a random intger using the 'randint' function from 'random' module\n",
    "    random_num = random.randint(1,100) # Generate a random number between 1 and 100\n",
    "    #Add the random number to the set\n",
    "    random_set.add(random_num)\n",
    "\n",
    "print(random_set)"
   ]
  },
  {
   "cell_type": "code",
   "execution_count": 31,
   "id": "4ec7d001-2730-4ed4-ba40-63e37e22e5a9",
   "metadata": {},
   "outputs": [
    {
     "name": "stdout",
     "output_type": "stream",
     "text": [
      "False\n"
     ]
    }
   ],
   "source": [
    "#29. Check if a set is empty.\n",
    "s3 ={\"Love\"}\n",
    "if s3 =={}:\n",
    "    print(True)\n",
    "else:\n",
    "    print(False)"
   ]
  },
  {
   "cell_type": "code",
   "execution_count": 21,
   "id": "c4308c80-be56-45da-9e29-f2c6d094d6d4",
   "metadata": {},
   "outputs": [
    {
     "name": "stdout",
     "output_type": "stream",
     "text": [
      "{frozenset({56, 1, 57}), frozenset({1, 2, 3, 5, 's8'})}\n"
     ]
    }
   ],
   "source": [
    "#30. Create a nested set (hint: use frozenset).\n",
    "set3 ={1,2,3,'s8',5}\n",
    "set1={ 1,56,57}\n",
    "#create frozenset from the inner sets\n",
    "frozen_set1 = frozenset(set1)\n",
    "frozen_set3 = frozenset(set3)\n",
    "nested_set = {frozen_set1,frozen_set3}\n",
    "print(nested_set)"
   ]
  },
  {
   "cell_type": "code",
   "execution_count": 51,
   "id": "c11a3d46-4fe5-4172-bace-359a438113f7",
   "metadata": {},
   "outputs": [
    {
     "data": {
      "text/plain": [
       "{1, 3, 4, 5, 6}"
      ]
     },
     "execution_count": 51,
     "metadata": {},
     "output_type": "execute_result"
    }
   ],
   "source": [
    "#31. Remove an element from a set using the discard method.\n",
    "s6 = {1, 2, 3, 4, 5, 6}\n",
    "s6.discard(2)\n",
    "s6"
   ]
  },
  {
   "cell_type": "code",
   "execution_count": 29,
   "id": "fee550a3-5ebf-4a0a-930f-df6b334cbf75",
   "metadata": {},
   "outputs": [
    {
     "name": "stdout",
     "output_type": "stream",
     "text": [
      "{5, 6}\n",
      "{2, 3}\n",
      "{1, 4}\n"
     ]
    }
   ],
   "source": [
    "#32. Compare two sets\n",
    "s4 = {1, 2, 3, 4}\n",
    "s6 = {1, 4, 5, 6}\n",
    "print(s6.difference(s4))\n",
    "print(s4.difference(s6))\n",
    "print(s4.intersection(s6))"
   ]
  },
  {
   "cell_type": "code",
   "execution_count": 68,
   "id": "775c8afb-8d0a-4910-be5c-f9ef63f4a602",
   "metadata": {},
   "outputs": [
    {
     "data": {
      "text/plain": [
       "{' ', 'L', 'd', 'e', 'f', 'i', 'l', 'n', 'o', 'r', 'v', 'y'}"
      ]
     },
     "execution_count": 68,
     "metadata": {},
     "output_type": "execute_result"
    }
   ],
   "source": [
    "#33. Create a set from a string.\n",
    "str1 = 'Lovely friend'\n",
    "set4 = set(str1)\n",
    "set4"
   ]
  },
  {
   "cell_type": "code",
   "execution_count": 12,
   "id": "fc6d4f2d-3919-4514-87e7-52cc21cb33e5",
   "metadata": {},
   "outputs": [
    {
     "name": "stdout",
     "output_type": "stream",
     "text": [
      "{25, 156, 47, 143}\n"
     ]
    }
   ],
   "source": [
    "#34 Convert a set of strings to a set of integers.\n",
    "s5 ={'156', '25','143', '47'}\n",
    "#Initalize an empty set to store integers\n",
    "integer_set =set()\n",
    "# iterate each string the set\n",
    "for item in s5:\n",
    "    integer = int(item)\n",
    "    integer_set.add(integer)\n",
    "print(integer_set)\n",
    "    "
   ]
  },
  {
   "cell_type": "code",
   "execution_count": 15,
   "id": "e28e72d9-fdcf-4251-9483-30de09411af2",
   "metadata": {},
   "outputs": [
    {
     "name": "stdout",
     "output_type": "stream",
     "text": [
      "{'47', '25', '156', '143'}\n"
     ]
    }
   ],
   "source": [
    "#35. Convert a set of integers to a set of strings.\n",
    "interger_set ={25, 156, 47, 143}\n",
    "string_set = set()\n",
    "for item in interger_set:\n",
    "    string = str(item)\n",
    "    string_set.add(string)\n",
    "print(string_set)\n"
   ]
  },
  {
   "cell_type": "code",
   "execution_count": 26,
   "id": "5c841d02-9b51-4edd-8c83-c03d46ade5be",
   "metadata": {},
   "outputs": [
    {
     "data": {
      "text/plain": [
       "{1, 2, 'average', 'bull'}"
      ]
     },
     "execution_count": 26,
     "metadata": {},
     "output_type": "execute_result"
    }
   ],
   "source": [
    "#36. Create a set from a tuple.\n",
    "tuple1 =(1,'average',2,'bull',2)\n",
    "set0 = set(tuple1)\n",
    "set0"
   ]
  },
  {
   "cell_type": "code",
   "execution_count": 89,
   "id": "5e8a2a13-e9d6-463a-8c35-6a8e8060fee3",
   "metadata": {},
   "outputs": [
    {
     "data": {
      "text/plain": [
       "(1, 2, 'bull', 'average')"
      ]
     },
     "execution_count": 89,
     "metadata": {},
     "output_type": "execute_result"
    }
   ],
   "source": [
    "#37. Convert a set to a tuple\n",
    "set0 ={1, 2, 'average', 'bull'}\n",
    "tuple0 = tuple(set0)\n",
    "tuple0\n"
   ]
  },
  {
   "cell_type": "code",
   "execution_count": 96,
   "id": "d53b3010-19cf-416e-a3bf-11e0c7194102",
   "metadata": {},
   "outputs": [
    {
     "name": "stdout",
     "output_type": "stream",
     "text": [
      "4\n"
     ]
    }
   ],
   "source": [
    "#38. Find the maximum value in a set.\n",
    "s4 = {1, 2, 3, 4}\n",
    "print(max(s4))\n",
    "            "
   ]
  },
  {
   "cell_type": "code",
   "execution_count": 98,
   "id": "93b9b6cd-fab7-4c5d-a5fc-3e4bd74acc0c",
   "metadata": {},
   "outputs": [
    {
     "name": "stdout",
     "output_type": "stream",
     "text": [
      "1\n"
     ]
    }
   ],
   "source": [
    "#39. Find the minimum value in a set.\n",
    "s4 = {1, 2, 3, 4}\n",
    "print(min(s4))\n"
   ]
  },
  {
   "cell_type": "code",
   "execution_count": 25,
   "id": "2f57f170-0c94-4d35-bc23-74815d97693f",
   "metadata": {},
   "outputs": [
    {
     "name": "stdin",
     "output_type": "stream",
     "text": [
      "enter the name venkatehs, love, 1,2m3\n"
     ]
    }
   ],
   "source": [
    "#40. Create a set from user input.\n",
    "user_input =input(\"enter the name\")\n",
    "user_set = set(user_input.split(\",\"))"
   ]
  },
  {
   "cell_type": "code",
   "execution_count": 22,
   "id": "4dfa5059-ddf7-4ce0-983c-a45d564df393",
   "metadata": {},
   "outputs": [
    {
     "name": "stdout",
     "output_type": "stream",
     "text": [
      "True\n"
     ]
    }
   ],
   "source": [
    "#41. Check if the intersection of two sets is empty.\n",
    "s3 ={5,6}\n",
    "s6 = {1, 4,6}\n",
    "if s3.intersection(s6):\n",
    "    print(True)\n",
    "else:\n",
    "    print(False)"
   ]
  },
  {
   "cell_type": "code",
   "execution_count": 21,
   "id": "4077b32d-b678-415b-aa8a-59534c9d362c",
   "metadata": {},
   "outputs": [
    {
     "name": "stdout",
     "output_type": "stream",
     "text": [
      "{0, 1, 2, 3, 5, 8}\n"
     ]
    }
   ],
   "source": [
    "#42. Create a set of the first 5 Fibonacci numbers.\n",
    "\n",
    "def fibonacci(n):\n",
    "    fibonacci_Set = set()\n",
    "    a = 0\n",
    "    b = 1\n",
    "    if n < 0:\n",
    "        print('incorrect input')\n",
    "    elif n== 0 :\n",
    "        return a\n",
    "    elif n == 1:\n",
    "        return b\n",
    "    else:\n",
    "        for i in range(2,n):\n",
    "            c = a + b\n",
    "            fibonacci_Set.add(a)\n",
    "            \n",
    "            a = b\n",
    "            b = c\n",
    "            \n",
    "        return fibonacci_Set\n",
    " \n",
    "print (fibonacci(9))"
   ]
  },
  {
   "cell_type": "code",
   "execution_count": 26,
   "id": "74247b0d-01f3-44cb-929b-6c2a3498fa6d",
   "metadata": {},
   "outputs": [
    {
     "data": {
      "text/plain": [
       "{1, 2, 3, 4, 5, 6, 7}"
      ]
     },
     "execution_count": 26,
     "metadata": {},
     "output_type": "execute_result"
    }
   ],
   "source": [
    "#43. Remove duplicates from a list using sets.\n",
    "list1 = [1,2,3,4,5,5,6,7,7]\n",
    "set7 =set(list1)\n",
    "set7"
   ]
  },
  {
   "cell_type": "code",
   "execution_count": 14,
   "id": "ff72f883-7bd5-42eb-b35f-90d65f0cbd1a",
   "metadata": {},
   "outputs": [
    {
     "name": "stdout",
     "output_type": "stream",
     "text": [
      "The sets do not have the same elements.\n"
     ]
    }
   ],
   "source": [
    "#44. Check if two sets have the same elements, regardless of their count.\n",
    "\n",
    "def have_same_elements(set1, set2):\n",
    "    # Convert the sets to lists and sort them\n",
    "    sorted_list1 = sorted(list(set1))\n",
    "    sorted_list2 = sorted(list(set2))\n",
    "\n",
    "    # Compare the sorted lists to check if they are equal\n",
    "    return sorted_list1 == sorted_list2\n",
    "\n",
    "# Example sets\n",
    "set1 = {1, 2, 3, 4, 1}\n",
    "set2 = {3, 1, 2}\n",
    "\n",
    "# Check if the sets have the same elements\n",
    "result = have_same_elements(set1, set2)\n",
    "\n",
    "# Print the result\n",
    "if result:\n",
    "    print(\"The sets have the same elements.\")\n",
    "else:\n",
    "    print(\"The sets do not have the same elements.\")\n"
   ]
  },
  {
   "cell_type": "code",
   "execution_count": 16,
   "id": "07c80fab-6f87-44e8-ac09-e6025ed9ebdd",
   "metadata": {},
   "outputs": [
    {
     "name": "stdout",
     "output_type": "stream",
     "text": [
      "{32, 1, 2, 4, 8, 16}\n"
     ]
    }
   ],
   "source": [
    "#45. Create a set of the first `n` powers of 2.\n",
    "def powers_of_2(n):\n",
    "    set1= set()\n",
    "    for i in range(n):\n",
    "        power = 2 **i\n",
    "        set1.add(power)\n",
    "    return set1\n",
    "\n",
    "n= 6\n",
    "power_set = powers_of_2(n)\n",
    "\n",
    "print(power_set)"
   ]
  },
  {
   "cell_type": "code",
   "execution_count": 49,
   "id": "d3300052-2397-447c-91ec-abf99281417d",
   "metadata": {},
   "outputs": [
    {
     "name": "stdout",
     "output_type": "stream",
     "text": [
      "{1, 2, 3, 4, 5, 6, 7}\n"
     ]
    }
   ],
   "source": [
    "#46. Find the common elements between a set and a list.\n",
    "list1 = [1,2,3,4,5,5,6,7,7,8]\n",
    "set7 = {1, 2, 3, 4, 5, 6, 7,9}\n",
    "set2 = set(list1)\n",
    "print(set2.intersection(set7))"
   ]
  },
  {
   "cell_type": "code",
   "execution_count": 7,
   "id": "b63fd468-66e2-441a-9776-1c662a3eee84",
   "metadata": {},
   "outputs": [
    {
     "name": "stdin",
     "output_type": "stream",
     "text": [
      "enter the value of n: 7\n"
     ]
    },
    {
     "name": "stdout",
     "output_type": "stream",
     "text": [
      "{1, 3, 6, 10, 15, 21, 28}\n"
     ]
    }
   ],
   "source": [
    "#47. Create a set of the first `n` triangular numbers.\n",
    "def triangular_numbers(n):\n",
    "    t_n = set()\n",
    "    for i in range(1,n+1):\n",
    "        t_number =i*(i+1)//2 # calcualate the i the trangular number using  triangle formaula\n",
    "        t_n.add(t_number)\n",
    "    return t_n\n",
    "\n",
    "n = int(input('enter the value of n:'))\n",
    "print(triangular_numbers(n))\n",
    "        "
   ]
  },
  {
   "cell_type": "code",
   "execution_count": 57,
   "id": "ddbb17ca-0992-46cc-a239-b5773836d657",
   "metadata": {},
   "outputs": [
    {
     "name": "stdout",
     "output_type": "stream",
     "text": [
      "True\n"
     ]
    }
   ],
   "source": [
    "#48. Check if a set contains another set as a subset.\n",
    "set7 ={1, 2, 3, 4, 5, 6, 7, 9,45,67}\n",
    "s6 ={45,67}\n",
    "print(s6.issubset(set7))"
   ]
  },
  {
   "cell_type": "code",
   "execution_count": 4,
   "id": "97014967-ef09-4444-a626-c279d180ab37",
   "metadata": {},
   "outputs": [
    {
     "name": "stdout",
     "output_type": "stream",
     "text": [
      "{0, 1}\n"
     ]
    }
   ],
   "source": [
    "#49. Create a set of alternating 1s and 0s of length `n`.\n",
    "def alternate_set(n):\n",
    "    alternating_set = set()\n",
    "    for i in range(n):\n",
    "        if i%2 == 0:\n",
    "            alternating_set.add(1) # add 1 if i is even\n",
    "        else:\n",
    "            alternating_set.add(0)\n",
    "    return alternating_set\n",
    "print(alternate_set(9))"
   ]
  },
  {
   "cell_type": "code",
   "execution_count": 2,
   "id": "6ca5de52-4725-4275-95b4-b46f896a4cde",
   "metadata": {},
   "outputs": [
    {
     "name": "stdout",
     "output_type": "stream",
     "text": [
      "{1, 2, 67, 3, 4, 5, 6, 7, 41, 9, 45, 23}\n"
     ]
    }
   ],
   "source": [
    "#50. Merge multiple sets into one.\n",
    "set3 ={1, 2, 3, 4, 5, 6, 7, 9}\n",
    "s6 ={45,67}\n",
    "s1 = {41,23}\n",
    "print(set().union(s6,s1,set3))"
   ]
  },
  {
   "cell_type": "code",
   "execution_count": null,
   "id": "2e1b895b-0c50-4277-89f9-9f948b4c8236",
   "metadata": {},
   "outputs": [],
   "source": []
  }
 ],
 "metadata": {
  "kernelspec": {
   "display_name": "Python 3 (ipykernel)",
   "language": "python",
   "name": "python3"
  },
  "language_info": {
   "codemirror_mode": {
    "name": "ipython",
    "version": 3
   },
   "file_extension": ".py",
   "mimetype": "text/x-python",
   "name": "python",
   "nbconvert_exporter": "python",
   "pygments_lexer": "ipython3",
   "version": "3.10.8"
  }
 },
 "nbformat": 4,
 "nbformat_minor": 5
}
